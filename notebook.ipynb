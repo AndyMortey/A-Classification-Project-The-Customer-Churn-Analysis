{
 "cells": [
  {
   "cell_type": "markdown",
   "metadata": {},
   "source": [
    "### A CLASSIFICATION PROJECT - CUSTOMER CHURN ANALYSIS"
   ]
  },
  {
   "cell_type": "markdown",
   "metadata": {},
   "source": [
    "#### PROJECT SCENARIO\n",
    "As a data scientist at Vodafone Corporation, a large telecommunication company.\n",
    "* Vodafone want to find the likelihood of a customer leaving the organization, the key indicators of churn as well as the retention strategies that can be implemented to avert this problem.\n",
    "* To do this, the business development unit has provided you with data to build a series of machine learning models to predict customer churn.\n",
    "* The marketing and sales team as well have provided you with some data to aid this endeavor.\n"
   ]
  },
  {
   "cell_type": "markdown",
   "metadata": {},
   "source": [
    "#### PROJECT DESCRIPTION\n",
    " Telecommunication companies face the ongoing challenge of customer churn, where subscribers discontinue services and switch to competitors. \n",
    " To address this issue and proactively retain customers, we are undertaking a customer churn analysis project utilizing machine learning techniques. \n",
    " In this project, we explore how machine learning techniques can be leveraged for customer churn analysis in telecommunication networks, following the well-established CRISP-DM (Cross-Industry Standard Process for Data Mining) framework. \n"
   ]
  },
  {
   "cell_type": "markdown",
   "metadata": {},
   "source": [
    "#### BUSINESS UNDERSTANDING\n",
    "In today's highly competitive telecommunication industry, customer churn, or the loss of customers to competitors, poses a significant challenge for companies striving to maintain market share and profitability. \n",
    "Identifying customers at risk of churn and implementing proactive retention strategies is crucial for sustaining business growth."
   ]
  },
  {
   "cell_type": "markdown",
   "metadata": {},
   "source": [
    "##### HYPOTHESIS\n",
    "NULL HYPOTHESIS: There is no relationship between the tenure and the churn of customers.\n",
    "\n",
    "ALTERNATE HYPOTHESIS: There is a relationship between the tenure and the churn of customers."
   ]
  },
  {
   "cell_type": "markdown",
   "metadata": {},
   "source": [
    "##### ANALYTICAL QUESTIONS\n",
    "1. What is the overall churn rate of the telecommunication company?\n",
    "2. Does churn rate differ based on the payment method?\n",
    "3. What is the churn rate of customers based on their seniority?\n",
    "4. What is the churn rate of customers based on their monthlycharges?\n",
    "5. What is the churn rate of customers based on their contract type?\n",
    "6. What is the churn rate of customers based on their gender?"
   ]
  },
  {
   "cell_type": "markdown",
   "metadata": {},
   "source": [
    "#### DATA UNDERSTANDING"
   ]
  },
  {
   "cell_type": "markdown",
   "metadata": {},
   "source": [
    "##### Loading the necessary libraries"
   ]
  },
  {
   "cell_type": "code",
   "execution_count": 2,
   "metadata": {},
   "outputs": [],
   "source": [
    "import numpy as np\n",
    "import pandas as pd\n",
    "import os\n",
    "import pyodbc\n",
    "from dotenv import load_dotenv\n",
    "from dotenv import dotenv_values\n",
    "import matplotlib.pyplot as plt\n",
    "import seaborn as sns\n",
    "from scipy.stats import chi2_contingency\n",
    "from scipy import stats\n",
    "#Machine Learning Packages\n",
    "from sklearn.model_selection import train_test_split\n",
    "from sklearn.preprocessing import LabelEncoder\n",
    "from sklearn.pipeline import Pipeline\n",
    "from sklearn.impute import SimpleImputer\n",
    "from sklearn.preprocessing import StandardScaler, OneHotEncoder\n",
    "from sklearn.compose import ColumnTransformer\n",
    "from sklearn.ensemble import RandomForestClassifier\n",
    "from sklearn.neighbors import KNeighborsClassifier\n",
    "from sklearn.linear_model import LogisticRegression\n",
    "from sklearn.svm import SVC\n",
    "from sklearn.tree import DecisionTreeClassifier\n",
    "from sklearn.ensemble import RandomForestClassifier, GradientBoostingClassifier\n",
    "from sklearn.neural_network import MLPClassifier\n",
    "from sklearn.metrics import classification_report\n",
    "from sklearn.metrics import accuracy_score, precision_score, recall_score, f1_score\n",
    "from imblearn.over_sampling import SMOTE\n",
    "from imblearn.pipeline import Pipeline as imbPipeline\n",
    "from sklearn.feature_selection import SelectKBest, mutual_info_classif\n",
    "import warnings\n",
    "warnings.filterwarnings('ignore')"
   ]
  },
  {
   "cell_type": "markdown",
   "metadata": {},
   "source": [
    "##### Load the datasets"
   ]
  },
  {
   "cell_type": "code",
   "execution_count": 3,
   "metadata": {},
   "outputs": [
    {
     "name": "stdout",
     "output_type": "stream",
     "text": [
      "USERNAME: LP2_project\n",
      "Connection successful!\n"
     ]
    }
   ],
   "source": [
    "#Loading first dataset from database\n",
    "# Load environment variables from .env file\n",
    "environment_variables = dotenv_values('.env')\n",
    "\n",
    "# Access database credentials from environment variables dictionary\n",
    "server = environment_variables.get(\"SERVER\")\n",
    "database = environment_variables.get(\"DATABASE\")\n",
    "password = environment_variables.get(\"PASSWORD\")\n",
    "username = environment_variables.get(\"USERNAME\")\n",
    "\n",
    "# Construct the connection string\n",
    "connection_string = f\"DRIVER=ODBC Driver 17 for SQL Server;SERVER={server};DATABASE={database};User Id={username};PASSWORD={password};\"\n",
    "\n",
    "print(\"USERNAME:\", username)\n",
    "\n",
    "# Construct the connection string\n",
    "connection_string = f\"DRIVER=ODBC Driver 17 for SQL Server;SERVER={server};DATABASE={database};UID={username};PWD={password};\"\n",
    "# Connect to the database\n",
    "try:\n",
    "    connection = pyodbc.connect(connection_string)\n",
    "    print(\"Connection successful!\")\n",
    "except Exception as e:\n",
    "    print(\"Error:\", e)\n",
    "\n",
    "# Specify the SQL queries to extract data from the tables\n",
    "Dataset1 = \"SELECT * FROM dbo.LP2_Telco_churn_first_3000\"\n",
    "\n",
    "# Suppress warnings\n",
    "warnings.filterwarnings('ignore')\n",
    "\n",
    "# Create a cursor from the connection\n",
    "with connection.cursor() as cursor:\n",
    "    # Execute the queries and fetch data into Pandas DataFrames\n",
    "    Dataset1 = pd.read_sql_query(Dataset1, connection)"
   ]
  },
  {
   "cell_type": "code",
   "execution_count": 4,
   "metadata": {},
   "outputs": [
    {
     "data": {
      "text/html": [
       "<div>\n",
       "<style scoped>\n",
       "    .dataframe tbody tr th:only-of-type {\n",
       "        vertical-align: middle;\n",
       "    }\n",
       "\n",
       "    .dataframe tbody tr th {\n",
       "        vertical-align: top;\n",
       "    }\n",
       "\n",
       "    .dataframe thead th {\n",
       "        text-align: right;\n",
       "    }\n",
       "</style>\n",
       "<table border=\"1\" class=\"dataframe\">\n",
       "  <thead>\n",
       "    <tr style=\"text-align: right;\">\n",
       "      <th></th>\n",
       "      <th>customerID</th>\n",
       "      <th>gender</th>\n",
       "      <th>SeniorCitizen</th>\n",
       "      <th>Partner</th>\n",
       "      <th>Dependents</th>\n",
       "      <th>tenure</th>\n",
       "      <th>PhoneService</th>\n",
       "      <th>MultipleLines</th>\n",
       "      <th>InternetService</th>\n",
       "      <th>OnlineSecurity</th>\n",
       "      <th>...</th>\n",
       "      <th>DeviceProtection</th>\n",
       "      <th>TechSupport</th>\n",
       "      <th>StreamingTV</th>\n",
       "      <th>StreamingMovies</th>\n",
       "      <th>Contract</th>\n",
       "      <th>PaperlessBilling</th>\n",
       "      <th>PaymentMethod</th>\n",
       "      <th>MonthlyCharges</th>\n",
       "      <th>TotalCharges</th>\n",
       "      <th>Churn</th>\n",
       "    </tr>\n",
       "  </thead>\n",
       "  <tbody>\n",
       "    <tr>\n",
       "      <th>0</th>\n",
       "      <td>7590-VHVEG</td>\n",
       "      <td>Female</td>\n",
       "      <td>False</td>\n",
       "      <td>True</td>\n",
       "      <td>False</td>\n",
       "      <td>1</td>\n",
       "      <td>False</td>\n",
       "      <td>None</td>\n",
       "      <td>DSL</td>\n",
       "      <td>False</td>\n",
       "      <td>...</td>\n",
       "      <td>False</td>\n",
       "      <td>False</td>\n",
       "      <td>False</td>\n",
       "      <td>False</td>\n",
       "      <td>Month-to-month</td>\n",
       "      <td>True</td>\n",
       "      <td>Electronic check</td>\n",
       "      <td>29.850000</td>\n",
       "      <td>29.850000</td>\n",
       "      <td>False</td>\n",
       "    </tr>\n",
       "    <tr>\n",
       "      <th>1</th>\n",
       "      <td>5575-GNVDE</td>\n",
       "      <td>Male</td>\n",
       "      <td>False</td>\n",
       "      <td>False</td>\n",
       "      <td>False</td>\n",
       "      <td>34</td>\n",
       "      <td>True</td>\n",
       "      <td>False</td>\n",
       "      <td>DSL</td>\n",
       "      <td>True</td>\n",
       "      <td>...</td>\n",
       "      <td>True</td>\n",
       "      <td>False</td>\n",
       "      <td>False</td>\n",
       "      <td>False</td>\n",
       "      <td>One year</td>\n",
       "      <td>False</td>\n",
       "      <td>Mailed check</td>\n",
       "      <td>56.950001</td>\n",
       "      <td>1889.500000</td>\n",
       "      <td>False</td>\n",
       "    </tr>\n",
       "    <tr>\n",
       "      <th>2</th>\n",
       "      <td>3668-QPYBK</td>\n",
       "      <td>Male</td>\n",
       "      <td>False</td>\n",
       "      <td>False</td>\n",
       "      <td>False</td>\n",
       "      <td>2</td>\n",
       "      <td>True</td>\n",
       "      <td>False</td>\n",
       "      <td>DSL</td>\n",
       "      <td>True</td>\n",
       "      <td>...</td>\n",
       "      <td>False</td>\n",
       "      <td>False</td>\n",
       "      <td>False</td>\n",
       "      <td>False</td>\n",
       "      <td>Month-to-month</td>\n",
       "      <td>True</td>\n",
       "      <td>Mailed check</td>\n",
       "      <td>53.849998</td>\n",
       "      <td>108.150002</td>\n",
       "      <td>True</td>\n",
       "    </tr>\n",
       "    <tr>\n",
       "      <th>3</th>\n",
       "      <td>7795-CFOCW</td>\n",
       "      <td>Male</td>\n",
       "      <td>False</td>\n",
       "      <td>False</td>\n",
       "      <td>False</td>\n",
       "      <td>45</td>\n",
       "      <td>False</td>\n",
       "      <td>None</td>\n",
       "      <td>DSL</td>\n",
       "      <td>True</td>\n",
       "      <td>...</td>\n",
       "      <td>True</td>\n",
       "      <td>True</td>\n",
       "      <td>False</td>\n",
       "      <td>False</td>\n",
       "      <td>One year</td>\n",
       "      <td>False</td>\n",
       "      <td>Bank transfer (automatic)</td>\n",
       "      <td>42.299999</td>\n",
       "      <td>1840.750000</td>\n",
       "      <td>False</td>\n",
       "    </tr>\n",
       "    <tr>\n",
       "      <th>4</th>\n",
       "      <td>9237-HQITU</td>\n",
       "      <td>Female</td>\n",
       "      <td>False</td>\n",
       "      <td>False</td>\n",
       "      <td>False</td>\n",
       "      <td>2</td>\n",
       "      <td>True</td>\n",
       "      <td>False</td>\n",
       "      <td>Fiber optic</td>\n",
       "      <td>False</td>\n",
       "      <td>...</td>\n",
       "      <td>False</td>\n",
       "      <td>False</td>\n",
       "      <td>False</td>\n",
       "      <td>False</td>\n",
       "      <td>Month-to-month</td>\n",
       "      <td>True</td>\n",
       "      <td>Electronic check</td>\n",
       "      <td>70.699997</td>\n",
       "      <td>151.649994</td>\n",
       "      <td>True</td>\n",
       "    </tr>\n",
       "  </tbody>\n",
       "</table>\n",
       "<p>5 rows × 21 columns</p>\n",
       "</div>"
      ],
      "text/plain": [
       "   customerID  gender  SeniorCitizen  Partner  Dependents  tenure  \\\n",
       "0  7590-VHVEG  Female          False     True       False       1   \n",
       "1  5575-GNVDE    Male          False    False       False      34   \n",
       "2  3668-QPYBK    Male          False    False       False       2   \n",
       "3  7795-CFOCW    Male          False    False       False      45   \n",
       "4  9237-HQITU  Female          False    False       False       2   \n",
       "\n",
       "   PhoneService MultipleLines InternetService OnlineSecurity  ...  \\\n",
       "0         False          None             DSL          False  ...   \n",
       "1          True         False             DSL           True  ...   \n",
       "2          True         False             DSL           True  ...   \n",
       "3         False          None             DSL           True  ...   \n",
       "4          True         False     Fiber optic          False  ...   \n",
       "\n",
       "  DeviceProtection TechSupport StreamingTV StreamingMovies        Contract  \\\n",
       "0            False       False       False           False  Month-to-month   \n",
       "1             True       False       False           False        One year   \n",
       "2            False       False       False           False  Month-to-month   \n",
       "3             True        True       False           False        One year   \n",
       "4            False       False       False           False  Month-to-month   \n",
       "\n",
       "  PaperlessBilling              PaymentMethod MonthlyCharges  TotalCharges  \\\n",
       "0             True           Electronic check      29.850000     29.850000   \n",
       "1            False               Mailed check      56.950001   1889.500000   \n",
       "2             True               Mailed check      53.849998    108.150002   \n",
       "3            False  Bank transfer (automatic)      42.299999   1840.750000   \n",
       "4             True           Electronic check      70.699997    151.649994   \n",
       "\n",
       "   Churn  \n",
       "0  False  \n",
       "1  False  \n",
       "2   True  \n",
       "3  False  \n",
       "4   True  \n",
       "\n",
       "[5 rows x 21 columns]"
      ]
     },
     "execution_count": 4,
     "metadata": {},
     "output_type": "execute_result"
    }
   ],
   "source": [
    "#Preview the first dataset\n",
    "Dataset1.head()"
   ]
  },
  {
   "cell_type": "code",
   "execution_count": 5,
   "metadata": {},
   "outputs": [
    {
     "data": {
      "text/html": [
       "<div>\n",
       "<style scoped>\n",
       "    .dataframe tbody tr th:only-of-type {\n",
       "        vertical-align: middle;\n",
       "    }\n",
       "\n",
       "    .dataframe tbody tr th {\n",
       "        vertical-align: top;\n",
       "    }\n",
       "\n",
       "    .dataframe thead th {\n",
       "        text-align: right;\n",
       "    }\n",
       "</style>\n",
       "<table border=\"1\" class=\"dataframe\">\n",
       "  <thead>\n",
       "    <tr style=\"text-align: right;\">\n",
       "      <th></th>\n",
       "      <th>customerID</th>\n",
       "      <th>gender</th>\n",
       "      <th>SeniorCitizen</th>\n",
       "      <th>Partner</th>\n",
       "      <th>Dependents</th>\n",
       "      <th>tenure</th>\n",
       "      <th>PhoneService</th>\n",
       "      <th>MultipleLines</th>\n",
       "      <th>InternetService</th>\n",
       "      <th>OnlineSecurity</th>\n",
       "      <th>...</th>\n",
       "      <th>DeviceProtection</th>\n",
       "      <th>TechSupport</th>\n",
       "      <th>StreamingTV</th>\n",
       "      <th>StreamingMovies</th>\n",
       "      <th>Contract</th>\n",
       "      <th>PaperlessBilling</th>\n",
       "      <th>PaymentMethod</th>\n",
       "      <th>MonthlyCharges</th>\n",
       "      <th>TotalCharges</th>\n",
       "      <th>Churn</th>\n",
       "    </tr>\n",
       "  </thead>\n",
       "  <tbody>\n",
       "    <tr>\n",
       "      <th>0</th>\n",
       "      <td>5600-PDUJF</td>\n",
       "      <td>Male</td>\n",
       "      <td>0</td>\n",
       "      <td>No</td>\n",
       "      <td>No</td>\n",
       "      <td>6</td>\n",
       "      <td>Yes</td>\n",
       "      <td>No</td>\n",
       "      <td>DSL</td>\n",
       "      <td>No</td>\n",
       "      <td>...</td>\n",
       "      <td>No</td>\n",
       "      <td>Yes</td>\n",
       "      <td>No</td>\n",
       "      <td>No</td>\n",
       "      <td>Month-to-month</td>\n",
       "      <td>Yes</td>\n",
       "      <td>Credit card (automatic)</td>\n",
       "      <td>49.50</td>\n",
       "      <td>312.7</td>\n",
       "      <td>No</td>\n",
       "    </tr>\n",
       "    <tr>\n",
       "      <th>1</th>\n",
       "      <td>8292-TYSPY</td>\n",
       "      <td>Male</td>\n",
       "      <td>0</td>\n",
       "      <td>No</td>\n",
       "      <td>No</td>\n",
       "      <td>19</td>\n",
       "      <td>Yes</td>\n",
       "      <td>No</td>\n",
       "      <td>DSL</td>\n",
       "      <td>No</td>\n",
       "      <td>...</td>\n",
       "      <td>Yes</td>\n",
       "      <td>Yes</td>\n",
       "      <td>No</td>\n",
       "      <td>No</td>\n",
       "      <td>Month-to-month</td>\n",
       "      <td>Yes</td>\n",
       "      <td>Credit card (automatic)</td>\n",
       "      <td>55.00</td>\n",
       "      <td>1046.5</td>\n",
       "      <td>Yes</td>\n",
       "    </tr>\n",
       "    <tr>\n",
       "      <th>2</th>\n",
       "      <td>0567-XRHCU</td>\n",
       "      <td>Female</td>\n",
       "      <td>0</td>\n",
       "      <td>Yes</td>\n",
       "      <td>Yes</td>\n",
       "      <td>69</td>\n",
       "      <td>No</td>\n",
       "      <td>No phone service</td>\n",
       "      <td>DSL</td>\n",
       "      <td>Yes</td>\n",
       "      <td>...</td>\n",
       "      <td>Yes</td>\n",
       "      <td>No</td>\n",
       "      <td>No</td>\n",
       "      <td>Yes</td>\n",
       "      <td>Two year</td>\n",
       "      <td>Yes</td>\n",
       "      <td>Credit card (automatic)</td>\n",
       "      <td>43.95</td>\n",
       "      <td>2960.1</td>\n",
       "      <td>No</td>\n",
       "    </tr>\n",
       "    <tr>\n",
       "      <th>3</th>\n",
       "      <td>1867-BDVFH</td>\n",
       "      <td>Male</td>\n",
       "      <td>0</td>\n",
       "      <td>Yes</td>\n",
       "      <td>Yes</td>\n",
       "      <td>11</td>\n",
       "      <td>Yes</td>\n",
       "      <td>Yes</td>\n",
       "      <td>Fiber optic</td>\n",
       "      <td>No</td>\n",
       "      <td>...</td>\n",
       "      <td>No</td>\n",
       "      <td>No</td>\n",
       "      <td>No</td>\n",
       "      <td>No</td>\n",
       "      <td>Month-to-month</td>\n",
       "      <td>Yes</td>\n",
       "      <td>Electronic check</td>\n",
       "      <td>74.35</td>\n",
       "      <td>834.2</td>\n",
       "      <td>Yes</td>\n",
       "    </tr>\n",
       "    <tr>\n",
       "      <th>4</th>\n",
       "      <td>2067-QYTCF</td>\n",
       "      <td>Female</td>\n",
       "      <td>0</td>\n",
       "      <td>Yes</td>\n",
       "      <td>No</td>\n",
       "      <td>64</td>\n",
       "      <td>Yes</td>\n",
       "      <td>Yes</td>\n",
       "      <td>Fiber optic</td>\n",
       "      <td>No</td>\n",
       "      <td>...</td>\n",
       "      <td>Yes</td>\n",
       "      <td>Yes</td>\n",
       "      <td>Yes</td>\n",
       "      <td>Yes</td>\n",
       "      <td>Month-to-month</td>\n",
       "      <td>Yes</td>\n",
       "      <td>Electronic check</td>\n",
       "      <td>111.15</td>\n",
       "      <td>6953.4</td>\n",
       "      <td>No</td>\n",
       "    </tr>\n",
       "  </tbody>\n",
       "</table>\n",
       "<p>5 rows × 21 columns</p>\n",
       "</div>"
      ],
      "text/plain": [
       "   customerID  gender  SeniorCitizen Partner Dependents  tenure PhoneService  \\\n",
       "0  5600-PDUJF    Male              0      No         No       6          Yes   \n",
       "1  8292-TYSPY    Male              0      No         No      19          Yes   \n",
       "2  0567-XRHCU  Female              0     Yes        Yes      69           No   \n",
       "3  1867-BDVFH    Male              0     Yes        Yes      11          Yes   \n",
       "4  2067-QYTCF  Female              0     Yes         No      64          Yes   \n",
       "\n",
       "      MultipleLines InternetService OnlineSecurity  ... DeviceProtection  \\\n",
       "0                No             DSL             No  ...               No   \n",
       "1                No             DSL             No  ...              Yes   \n",
       "2  No phone service             DSL            Yes  ...              Yes   \n",
       "3               Yes     Fiber optic             No  ...               No   \n",
       "4               Yes     Fiber optic             No  ...              Yes   \n",
       "\n",
       "  TechSupport StreamingTV StreamingMovies        Contract PaperlessBilling  \\\n",
       "0         Yes          No              No  Month-to-month              Yes   \n",
       "1         Yes          No              No  Month-to-month              Yes   \n",
       "2          No          No             Yes        Two year              Yes   \n",
       "3          No          No              No  Month-to-month              Yes   \n",
       "4         Yes         Yes             Yes  Month-to-month              Yes   \n",
       "\n",
       "             PaymentMethod MonthlyCharges  TotalCharges Churn  \n",
       "0  Credit card (automatic)          49.50         312.7    No  \n",
       "1  Credit card (automatic)          55.00        1046.5   Yes  \n",
       "2  Credit card (automatic)          43.95        2960.1    No  \n",
       "3         Electronic check          74.35         834.2   Yes  \n",
       "4         Electronic check         111.15        6953.4    No  \n",
       "\n",
       "[5 rows x 21 columns]"
      ]
     },
     "execution_count": 5,
     "metadata": {},
     "output_type": "execute_result"
    }
   ],
   "source": [
    "#Load the second the dataset\n",
    "Dataset2 = pd.read_csv(\"./Dataset/LP2_Telco-churn-second-2000.csv\")\n",
    "Dataset2.head()"
   ]
  },
  {
   "cell_type": "code",
   "execution_count": 6,
   "metadata": {},
   "outputs": [
    {
     "name": "stdout",
     "output_type": "stream",
     "text": [
      "Index(['customerID', 'gender', 'SeniorCitizen', 'Partner', 'Dependents',\n",
      "       'tenure', 'PhoneService', 'MultipleLines', 'InternetService',\n",
      "       'OnlineSecurity', 'OnlineBackup', 'DeviceProtection', 'TechSupport',\n",
      "       'StreamingTV', 'StreamingMovies', 'Contract', 'PaperlessBilling',\n",
      "       'PaymentMethod', 'MonthlyCharges', 'TotalCharges', 'Churn'],\n",
      "      dtype='object')\n"
     ]
    }
   ],
   "source": [
    "#Check the columns\n",
    "column_names = Dataset1.columns\n",
    "print(column_names)"
   ]
  },
  {
   "cell_type": "code",
   "execution_count": 7,
   "metadata": {},
   "outputs": [
    {
     "name": "stdout",
     "output_type": "stream",
     "text": [
      "Index(['customerID', 'gender', 'SeniorCitizen', 'Partner', 'Dependents',\n",
      "       'tenure', 'PhoneService', 'MultipleLines', 'InternetService',\n",
      "       'OnlineSecurity', 'OnlineBackup', 'DeviceProtection', 'TechSupport',\n",
      "       'StreamingTV', 'StreamingMovies', 'Contract', 'PaperlessBilling',\n",
      "       'PaymentMethod', 'MonthlyCharges', 'TotalCharges', 'Churn'],\n",
      "      dtype='object')\n"
     ]
    }
   ],
   "source": [
    "#Check the columns\n",
    "column_names = Dataset2.columns\n",
    "print(column_names)"
   ]
  },
  {
   "cell_type": "code",
   "execution_count": 8,
   "metadata": {},
   "outputs": [
    {
     "data": {
      "text/plain": [
       "(3000, 21)"
      ]
     },
     "execution_count": 8,
     "metadata": {},
     "output_type": "execute_result"
    }
   ],
   "source": [
    "#Check the number of rows and columns\n",
    "Dataset1.shape"
   ]
  },
  {
   "cell_type": "code",
   "execution_count": 9,
   "metadata": {},
   "outputs": [
    {
     "data": {
      "text/plain": [
       "(2043, 21)"
      ]
     },
     "execution_count": 9,
     "metadata": {},
     "output_type": "execute_result"
    }
   ],
   "source": [
    "#Check the number of rows and columns\n",
    "Dataset2.shape"
   ]
  },
  {
   "cell_type": "markdown",
   "metadata": {},
   "source": [
    "##### Observations\n",
    "1. The outputs show both datasets have the same column names and number of columns so they can be merged easily.\n",
    "2. However, some of the column names are in upper case so they will be converted to lower case."
   ]
  },
  {
   "cell_type": "code",
   "execution_count": 10,
   "metadata": {},
   "outputs": [
    {
     "name": "stdout",
     "output_type": "stream",
     "text": [
      "Index(['customerid', 'gender', 'seniorcitizen', 'partner', 'dependents',\n",
      "       'tenure', 'phoneservice', 'multiplelines', 'internetservice',\n",
      "       'onlinesecurity', 'onlinebackup', 'deviceprotection', 'techsupport',\n",
      "       'streamingtv', 'streamingmovies', 'contract', 'paperlessbilling',\n",
      "       'paymentmethod', 'monthlycharges', 'totalcharges', 'churn'],\n",
      "      dtype='object')\n"
     ]
    }
   ],
   "source": [
    "#Convert column names to lower case\n",
    "Dataset1.columns = Dataset1.columns.str.lower()\n",
    "\n",
    "#Check the columns to confirm\n",
    "column_names = Dataset1.columns\n",
    "print(column_names)"
   ]
  },
  {
   "cell_type": "code",
   "execution_count": 11,
   "metadata": {},
   "outputs": [
    {
     "name": "stdout",
     "output_type": "stream",
     "text": [
      "Index(['customerid', 'gender', 'seniorcitizen', 'partner', 'dependents',\n",
      "       'tenure', 'phoneservice', 'multiplelines', 'internetservice',\n",
      "       'onlinesecurity', 'onlinebackup', 'deviceprotection', 'techsupport',\n",
      "       'streamingtv', 'streamingmovies', 'contract', 'paperlessbilling',\n",
      "       'paymentmethod', 'monthlycharges', 'totalcharges', 'churn'],\n",
      "      dtype='object')\n"
     ]
    }
   ],
   "source": [
    "#Convert column names to lower case\n",
    "Dataset2.columns = Dataset2.columns.str.lower()\n",
    "\n",
    "#Check the columns to confirm\n",
    "column_names = Dataset2.columns\n",
    "print(column_names)"
   ]
  },
  {
   "cell_type": "code",
   "execution_count": 12,
   "metadata": {},
   "outputs": [
    {
     "name": "stdout",
     "output_type": "stream",
     "text": [
      "<class 'pandas.core.frame.DataFrame'>\n",
      "RangeIndex: 3000 entries, 0 to 2999\n",
      "Data columns (total 21 columns):\n",
      " #   Column            Non-Null Count  Dtype  \n",
      "---  ------            --------------  -----  \n",
      " 0   customerid        3000 non-null   object \n",
      " 1   gender            3000 non-null   object \n",
      " 2   seniorcitizen     3000 non-null   bool   \n",
      " 3   partner           3000 non-null   bool   \n",
      " 4   dependents        3000 non-null   bool   \n",
      " 5   tenure            3000 non-null   int64  \n",
      " 6   phoneservice      3000 non-null   bool   \n",
      " 7   multiplelines     2731 non-null   object \n",
      " 8   internetservice   3000 non-null   object \n",
      " 9   onlinesecurity    2349 non-null   object \n",
      " 10  onlinebackup      2349 non-null   object \n",
      " 11  deviceprotection  2349 non-null   object \n",
      " 12  techsupport       2349 non-null   object \n",
      " 13  streamingtv       2349 non-null   object \n",
      " 14  streamingmovies   2349 non-null   object \n",
      " 15  contract          3000 non-null   object \n",
      " 16  paperlessbilling  3000 non-null   bool   \n",
      " 17  paymentmethod     3000 non-null   object \n",
      " 18  monthlycharges    3000 non-null   float64\n",
      " 19  totalcharges      2995 non-null   float64\n",
      " 20  churn             2999 non-null   object \n",
      "dtypes: bool(5), float64(2), int64(1), object(13)\n",
      "memory usage: 389.8+ KB\n"
     ]
    }
   ],
   "source": [
    "#Check cell values\n",
    "Dataset1.info()"
   ]
  },
  {
   "cell_type": "markdown",
   "metadata": {},
   "source": [
    "##### This shows there are empty cells in these columns; multiplelines, onlinesecurity, onlinebackup, deviceprotection, techsupport, streamingtv, streamingmovies, totalcharges and churn. They will be treated accordingly."
   ]
  },
  {
   "cell_type": "code",
   "execution_count": 13,
   "metadata": {},
   "outputs": [
    {
     "name": "stdout",
     "output_type": "stream",
     "text": [
      "<class 'pandas.core.frame.DataFrame'>\n",
      "RangeIndex: 2043 entries, 0 to 2042\n",
      "Data columns (total 21 columns):\n",
      " #   Column            Non-Null Count  Dtype  \n",
      "---  ------            --------------  -----  \n",
      " 0   customerid        2043 non-null   object \n",
      " 1   gender            2043 non-null   object \n",
      " 2   seniorcitizen     2043 non-null   int64  \n",
      " 3   partner           2043 non-null   object \n",
      " 4   dependents        2043 non-null   object \n",
      " 5   tenure            2043 non-null   int64  \n",
      " 6   phoneservice      2043 non-null   object \n",
      " 7   multiplelines     2043 non-null   object \n",
      " 8   internetservice   2043 non-null   object \n",
      " 9   onlinesecurity    2043 non-null   object \n",
      " 10  onlinebackup      2043 non-null   object \n",
      " 11  deviceprotection  2043 non-null   object \n",
      " 12  techsupport       2043 non-null   object \n",
      " 13  streamingtv       2043 non-null   object \n",
      " 14  streamingmovies   2043 non-null   object \n",
      " 15  contract          2043 non-null   object \n",
      " 16  paperlessbilling  2043 non-null   object \n",
      " 17  paymentmethod     2043 non-null   object \n",
      " 18  monthlycharges    2043 non-null   float64\n",
      " 19  totalcharges      2043 non-null   object \n",
      " 20  churn             2043 non-null   object \n",
      "dtypes: float64(1), int64(2), object(18)\n",
      "memory usage: 335.3+ KB\n"
     ]
    }
   ],
   "source": [
    "#Check cell values\n",
    "Dataset2.info()"
   ]
  },
  {
   "cell_type": "markdown",
   "metadata": {},
   "source": [
    "##### This shows there are no empty cells in any of the columns but some of the columns have the wrong datatype. This will be taken care of accordingly."
   ]
  },
  {
   "cell_type": "code",
   "execution_count": 14,
   "metadata": {},
   "outputs": [
    {
     "name": "stdout",
     "output_type": "stream",
     "text": [
      "Unique values in column 'customerid': ['7590-VHVEG' '5575-GNVDE' '3668-QPYBK' ... '1891-FZYSA' '4770-UEZOX'\n",
      " '1A1:U3001038-RQOST']\n",
      "Unique values in column 'gender': ['Female' 'Male']\n",
      "Unique values in column 'seniorcitizen': [False  True]\n",
      "Unique values in column 'partner': [ True False]\n",
      "Unique values in column 'dependents': [False  True]\n",
      "Unique values in column 'tenure': [ 1 34  2 45  8 22 10 28 62 13 16 58 49 25 69 52 71 21 12 30 47 72 17 27\n",
      "  5 46 11 70 63 43 15 60 18 66  9  3 31 50 64 56  7 42 35 48 29 65 38 68\n",
      " 32 55 37 36 41  6  4 33 67 23 57 61 14 20 53 40 59 24 44 19 54 51 26  0\n",
      " 39]\n",
      "Unique values in column 'phoneservice': [False  True]\n",
      "Unique values in column 'multiplelines': [None False True]\n",
      "Unique values in column 'internetservice': ['DSL' 'Fiber optic' 'No']\n",
      "Unique values in column 'onlinesecurity': [False True None]\n",
      "Unique values in column 'onlinebackup': [True False None]\n",
      "Unique values in column 'deviceprotection': [False True None]\n",
      "Unique values in column 'techsupport': [False True None]\n",
      "Unique values in column 'streamingtv': [False True None]\n",
      "Unique values in column 'streamingmovies': [False True None]\n",
      "Unique values in column 'contract': ['Month-to-month' 'One year' 'Two year']\n",
      "Unique values in column 'paperlessbilling': [ True False]\n",
      "Unique values in column 'paymentmethod': ['Electronic check' 'Mailed check' 'Bank transfer (automatic)'\n",
      " 'Credit card (automatic)']\n",
      "Unique values in column 'monthlycharges': [29.85000038 56.95000076 53.84999847 ... 33.90000153 34.\n",
      " 38.59999847]\n",
      "Unique values in column 'totalcharges': [  29.85000038 1889.5         108.15000153 ... 6143.14990234  144.80000305\n",
      "  414.95001221]\n",
      "Unique values in column 'churn': [False True None]\n"
     ]
    }
   ],
   "source": [
    "#Check for the unique values of each column\n",
    "def check_unique_values(df):\n",
    "    for column in df.columns:\n",
    "        unique_values = df[column].unique()\n",
    "        print(f\"Unique values in column '{column}': {unique_values}\")\n",
    "\n",
    "#Check for Dataset1\n",
    "check_unique_values(Dataset1)"
   ]
  },
  {
   "cell_type": "code",
   "execution_count": 15,
   "metadata": {},
   "outputs": [
    {
     "name": "stdout",
     "output_type": "stream",
     "text": [
      "Unique values in column 'customerid': ['5600-PDUJF' '8292-TYSPY' '0567-XRHCU' ... '4801-JZAZL' '8361-LTMKD'\n",
      " '3186-AJIEK']\n",
      "Unique values in column 'gender': ['Male' 'Female']\n",
      "Unique values in column 'seniorcitizen': [0 1]\n",
      "Unique values in column 'partner': ['No' 'Yes']\n",
      "Unique values in column 'dependents': ['No' 'Yes']\n",
      "Unique values in column 'tenure': [ 6 19 69 11 64 39 15 25 66 61 43 12 23 71 34  5 41 72 14  1 10  7  9 48\n",
      " 20 16  2 22 35 54 56 18 68 53 30 36 55 21 33 44  4 49 42 67 40 45 57  8\n",
      " 65  3 17 28 52 47 50 46 29 27 13 24 62 26 60 51 70 59 38 37  0 58 31 32\n",
      " 63]\n",
      "Unique values in column 'phoneservice': ['Yes' 'No']\n",
      "Unique values in column 'multiplelines': ['No' 'No phone service' 'Yes']\n",
      "Unique values in column 'internetservice': ['DSL' 'Fiber optic' 'No']\n",
      "Unique values in column 'onlinesecurity': ['No' 'Yes' 'No internet service']\n",
      "Unique values in column 'onlinebackup': ['No' 'Yes' 'No internet service']\n",
      "Unique values in column 'deviceprotection': ['No' 'Yes' 'No internet service']\n",
      "Unique values in column 'techsupport': ['Yes' 'No' 'No internet service']\n",
      "Unique values in column 'streamingtv': ['No' 'Yes' 'No internet service']\n",
      "Unique values in column 'streamingmovies': ['No' 'Yes' 'No internet service']\n",
      "Unique values in column 'contract': ['Month-to-month' 'Two year' 'One year']\n",
      "Unique values in column 'paperlessbilling': ['Yes' 'No']\n",
      "Unique values in column 'paymentmethod': ['Credit card (automatic)' 'Electronic check' 'Mailed check'\n",
      " 'Bank transfer (automatic)']\n",
      "Unique values in column 'monthlycharges': [ 49.5   55.    43.95 ...  78.7   60.65 103.2 ]\n",
      "Unique values in column 'totalcharges': ['312.7' '1046.5' '2960.1' ... '346.45' '306.6' '6844.5']\n",
      "Unique values in column 'churn': ['No' 'Yes']\n"
     ]
    }
   ],
   "source": [
    "def check_unique_values(df):\n",
    "    for column in df.columns:\n",
    "        unique_values = df[column].unique()\n",
    "        print(f\"Unique values in column '{column}': {unique_values}\")\n",
    "\n",
    "#Check for Dataset2\n",
    "check_unique_values(Dataset2)"
   ]
  },
  {
   "cell_type": "markdown",
   "metadata": {},
   "source": [
    "##### The 'True' and 'False' values in the first dataset will be replaced with 'Yes' and 'No' to ensure both datasets have the same values before they are merged."
   ]
  },
  {
   "cell_type": "code",
   "execution_count": 16,
   "metadata": {},
   "outputs": [],
   "source": [
    "#Replace the \"True\" and \"False\" values in Dataset1\n",
    "def replace_true_false(df):\n",
    "    df.replace({True: 'Yes', False: 'No'}, inplace=True)\n",
    "\n",
    "replace_true_false(Dataset1)"
   ]
  },
  {
   "cell_type": "code",
   "execution_count": 17,
   "metadata": {},
   "outputs": [
    {
     "data": {
      "text/html": [
       "<div>\n",
       "<style scoped>\n",
       "    .dataframe tbody tr th:only-of-type {\n",
       "        vertical-align: middle;\n",
       "    }\n",
       "\n",
       "    .dataframe tbody tr th {\n",
       "        vertical-align: top;\n",
       "    }\n",
       "\n",
       "    .dataframe thead th {\n",
       "        text-align: right;\n",
       "    }\n",
       "</style>\n",
       "<table border=\"1\" class=\"dataframe\">\n",
       "  <thead>\n",
       "    <tr style=\"text-align: right;\">\n",
       "      <th></th>\n",
       "      <th>customerid</th>\n",
       "      <th>gender</th>\n",
       "      <th>seniorcitizen</th>\n",
       "      <th>partner</th>\n",
       "      <th>dependents</th>\n",
       "      <th>tenure</th>\n",
       "      <th>phoneservice</th>\n",
       "      <th>multiplelines</th>\n",
       "      <th>internetservice</th>\n",
       "      <th>onlinesecurity</th>\n",
       "      <th>...</th>\n",
       "      <th>deviceprotection</th>\n",
       "      <th>techsupport</th>\n",
       "      <th>streamingtv</th>\n",
       "      <th>streamingmovies</th>\n",
       "      <th>contract</th>\n",
       "      <th>paperlessbilling</th>\n",
       "      <th>paymentmethod</th>\n",
       "      <th>monthlycharges</th>\n",
       "      <th>totalcharges</th>\n",
       "      <th>churn</th>\n",
       "    </tr>\n",
       "  </thead>\n",
       "  <tbody>\n",
       "    <tr>\n",
       "      <th>0</th>\n",
       "      <td>7590-VHVEG</td>\n",
       "      <td>Female</td>\n",
       "      <td>No</td>\n",
       "      <td>Yes</td>\n",
       "      <td>No</td>\n",
       "      <td>1</td>\n",
       "      <td>No</td>\n",
       "      <td>None</td>\n",
       "      <td>DSL</td>\n",
       "      <td>No</td>\n",
       "      <td>...</td>\n",
       "      <td>No</td>\n",
       "      <td>No</td>\n",
       "      <td>No</td>\n",
       "      <td>No</td>\n",
       "      <td>Month-to-month</td>\n",
       "      <td>Yes</td>\n",
       "      <td>Electronic check</td>\n",
       "      <td>29.850000</td>\n",
       "      <td>29.850000</td>\n",
       "      <td>No</td>\n",
       "    </tr>\n",
       "    <tr>\n",
       "      <th>1</th>\n",
       "      <td>5575-GNVDE</td>\n",
       "      <td>Male</td>\n",
       "      <td>No</td>\n",
       "      <td>No</td>\n",
       "      <td>No</td>\n",
       "      <td>34</td>\n",
       "      <td>Yes</td>\n",
       "      <td>No</td>\n",
       "      <td>DSL</td>\n",
       "      <td>Yes</td>\n",
       "      <td>...</td>\n",
       "      <td>Yes</td>\n",
       "      <td>No</td>\n",
       "      <td>No</td>\n",
       "      <td>No</td>\n",
       "      <td>One year</td>\n",
       "      <td>No</td>\n",
       "      <td>Mailed check</td>\n",
       "      <td>56.950001</td>\n",
       "      <td>1889.500000</td>\n",
       "      <td>No</td>\n",
       "    </tr>\n",
       "    <tr>\n",
       "      <th>2</th>\n",
       "      <td>3668-QPYBK</td>\n",
       "      <td>Male</td>\n",
       "      <td>No</td>\n",
       "      <td>No</td>\n",
       "      <td>No</td>\n",
       "      <td>2</td>\n",
       "      <td>Yes</td>\n",
       "      <td>No</td>\n",
       "      <td>DSL</td>\n",
       "      <td>Yes</td>\n",
       "      <td>...</td>\n",
       "      <td>No</td>\n",
       "      <td>No</td>\n",
       "      <td>No</td>\n",
       "      <td>No</td>\n",
       "      <td>Month-to-month</td>\n",
       "      <td>Yes</td>\n",
       "      <td>Mailed check</td>\n",
       "      <td>53.849998</td>\n",
       "      <td>108.150002</td>\n",
       "      <td>Yes</td>\n",
       "    </tr>\n",
       "    <tr>\n",
       "      <th>3</th>\n",
       "      <td>7795-CFOCW</td>\n",
       "      <td>Male</td>\n",
       "      <td>No</td>\n",
       "      <td>No</td>\n",
       "      <td>No</td>\n",
       "      <td>45</td>\n",
       "      <td>No</td>\n",
       "      <td>None</td>\n",
       "      <td>DSL</td>\n",
       "      <td>Yes</td>\n",
       "      <td>...</td>\n",
       "      <td>Yes</td>\n",
       "      <td>Yes</td>\n",
       "      <td>No</td>\n",
       "      <td>No</td>\n",
       "      <td>One year</td>\n",
       "      <td>No</td>\n",
       "      <td>Bank transfer (automatic)</td>\n",
       "      <td>42.299999</td>\n",
       "      <td>1840.750000</td>\n",
       "      <td>No</td>\n",
       "    </tr>\n",
       "    <tr>\n",
       "      <th>4</th>\n",
       "      <td>9237-HQITU</td>\n",
       "      <td>Female</td>\n",
       "      <td>No</td>\n",
       "      <td>No</td>\n",
       "      <td>No</td>\n",
       "      <td>2</td>\n",
       "      <td>Yes</td>\n",
       "      <td>No</td>\n",
       "      <td>Fiber optic</td>\n",
       "      <td>No</td>\n",
       "      <td>...</td>\n",
       "      <td>No</td>\n",
       "      <td>No</td>\n",
       "      <td>No</td>\n",
       "      <td>No</td>\n",
       "      <td>Month-to-month</td>\n",
       "      <td>Yes</td>\n",
       "      <td>Electronic check</td>\n",
       "      <td>70.699997</td>\n",
       "      <td>151.649994</td>\n",
       "      <td>Yes</td>\n",
       "    </tr>\n",
       "  </tbody>\n",
       "</table>\n",
       "<p>5 rows × 21 columns</p>\n",
       "</div>"
      ],
      "text/plain": [
       "   customerid  gender seniorcitizen partner dependents  tenure phoneservice  \\\n",
       "0  7590-VHVEG  Female            No     Yes         No       1           No   \n",
       "1  5575-GNVDE    Male            No      No         No      34          Yes   \n",
       "2  3668-QPYBK    Male            No      No         No       2          Yes   \n",
       "3  7795-CFOCW    Male            No      No         No      45           No   \n",
       "4  9237-HQITU  Female            No      No         No       2          Yes   \n",
       "\n",
       "  multiplelines internetservice onlinesecurity  ... deviceprotection  \\\n",
       "0          None             DSL             No  ...               No   \n",
       "1            No             DSL            Yes  ...              Yes   \n",
       "2            No             DSL            Yes  ...               No   \n",
       "3          None             DSL            Yes  ...              Yes   \n",
       "4            No     Fiber optic             No  ...               No   \n",
       "\n",
       "  techsupport streamingtv streamingmovies        contract paperlessbilling  \\\n",
       "0          No          No              No  Month-to-month              Yes   \n",
       "1          No          No              No        One year               No   \n",
       "2          No          No              No  Month-to-month              Yes   \n",
       "3         Yes          No              No        One year               No   \n",
       "4          No          No              No  Month-to-month              Yes   \n",
       "\n",
       "               paymentmethod monthlycharges  totalcharges  churn  \n",
       "0           Electronic check      29.850000     29.850000     No  \n",
       "1               Mailed check      56.950001   1889.500000     No  \n",
       "2               Mailed check      53.849998    108.150002    Yes  \n",
       "3  Bank transfer (automatic)      42.299999   1840.750000     No  \n",
       "4           Electronic check      70.699997    151.649994    Yes  \n",
       "\n",
       "[5 rows x 21 columns]"
      ]
     },
     "execution_count": 17,
     "metadata": {},
     "output_type": "execute_result"
    }
   ],
   "source": [
    "#Check Dataset1 to confirm\n",
    "Dataset1.head()"
   ]
  },
  {
   "cell_type": "code",
   "execution_count": 18,
   "metadata": {},
   "outputs": [],
   "source": [
    "#Replace the values in seniorcitizen column\n",
    "def replace_yes_no_with_1_0(df):\n",
    "    df['seniorcitizen'] = df['seniorcitizen'].replace({'Yes': 1, 'No': 0})\n",
    "\n",
    "replace_yes_no_with_1_0(Dataset1)"
   ]
  },
  {
   "cell_type": "code",
   "execution_count": 19,
   "metadata": {},
   "outputs": [
    {
     "data": {
      "text/html": [
       "<div>\n",
       "<style scoped>\n",
       "    .dataframe tbody tr th:only-of-type {\n",
       "        vertical-align: middle;\n",
       "    }\n",
       "\n",
       "    .dataframe tbody tr th {\n",
       "        vertical-align: top;\n",
       "    }\n",
       "\n",
       "    .dataframe thead th {\n",
       "        text-align: right;\n",
       "    }\n",
       "</style>\n",
       "<table border=\"1\" class=\"dataframe\">\n",
       "  <thead>\n",
       "    <tr style=\"text-align: right;\">\n",
       "      <th></th>\n",
       "      <th>customerid</th>\n",
       "      <th>gender</th>\n",
       "      <th>seniorcitizen</th>\n",
       "      <th>partner</th>\n",
       "      <th>dependents</th>\n",
       "      <th>tenure</th>\n",
       "      <th>phoneservice</th>\n",
       "      <th>multiplelines</th>\n",
       "      <th>internetservice</th>\n",
       "      <th>onlinesecurity</th>\n",
       "      <th>...</th>\n",
       "      <th>deviceprotection</th>\n",
       "      <th>techsupport</th>\n",
       "      <th>streamingtv</th>\n",
       "      <th>streamingmovies</th>\n",
       "      <th>contract</th>\n",
       "      <th>paperlessbilling</th>\n",
       "      <th>paymentmethod</th>\n",
       "      <th>monthlycharges</th>\n",
       "      <th>totalcharges</th>\n",
       "      <th>churn</th>\n",
       "    </tr>\n",
       "  </thead>\n",
       "  <tbody>\n",
       "    <tr>\n",
       "      <th>0</th>\n",
       "      <td>7590-VHVEG</td>\n",
       "      <td>Female</td>\n",
       "      <td>0</td>\n",
       "      <td>Yes</td>\n",
       "      <td>No</td>\n",
       "      <td>1</td>\n",
       "      <td>No</td>\n",
       "      <td>None</td>\n",
       "      <td>DSL</td>\n",
       "      <td>No</td>\n",
       "      <td>...</td>\n",
       "      <td>No</td>\n",
       "      <td>No</td>\n",
       "      <td>No</td>\n",
       "      <td>No</td>\n",
       "      <td>Month-to-month</td>\n",
       "      <td>Yes</td>\n",
       "      <td>Electronic check</td>\n",
       "      <td>29.850000</td>\n",
       "      <td>29.850000</td>\n",
       "      <td>No</td>\n",
       "    </tr>\n",
       "    <tr>\n",
       "      <th>1</th>\n",
       "      <td>5575-GNVDE</td>\n",
       "      <td>Male</td>\n",
       "      <td>0</td>\n",
       "      <td>No</td>\n",
       "      <td>No</td>\n",
       "      <td>34</td>\n",
       "      <td>Yes</td>\n",
       "      <td>No</td>\n",
       "      <td>DSL</td>\n",
       "      <td>Yes</td>\n",
       "      <td>...</td>\n",
       "      <td>Yes</td>\n",
       "      <td>No</td>\n",
       "      <td>No</td>\n",
       "      <td>No</td>\n",
       "      <td>One year</td>\n",
       "      <td>No</td>\n",
       "      <td>Mailed check</td>\n",
       "      <td>56.950001</td>\n",
       "      <td>1889.500000</td>\n",
       "      <td>No</td>\n",
       "    </tr>\n",
       "    <tr>\n",
       "      <th>2</th>\n",
       "      <td>3668-QPYBK</td>\n",
       "      <td>Male</td>\n",
       "      <td>0</td>\n",
       "      <td>No</td>\n",
       "      <td>No</td>\n",
       "      <td>2</td>\n",
       "      <td>Yes</td>\n",
       "      <td>No</td>\n",
       "      <td>DSL</td>\n",
       "      <td>Yes</td>\n",
       "      <td>...</td>\n",
       "      <td>No</td>\n",
       "      <td>No</td>\n",
       "      <td>No</td>\n",
       "      <td>No</td>\n",
       "      <td>Month-to-month</td>\n",
       "      <td>Yes</td>\n",
       "      <td>Mailed check</td>\n",
       "      <td>53.849998</td>\n",
       "      <td>108.150002</td>\n",
       "      <td>Yes</td>\n",
       "    </tr>\n",
       "    <tr>\n",
       "      <th>3</th>\n",
       "      <td>7795-CFOCW</td>\n",
       "      <td>Male</td>\n",
       "      <td>0</td>\n",
       "      <td>No</td>\n",
       "      <td>No</td>\n",
       "      <td>45</td>\n",
       "      <td>No</td>\n",
       "      <td>None</td>\n",
       "      <td>DSL</td>\n",
       "      <td>Yes</td>\n",
       "      <td>...</td>\n",
       "      <td>Yes</td>\n",
       "      <td>Yes</td>\n",
       "      <td>No</td>\n",
       "      <td>No</td>\n",
       "      <td>One year</td>\n",
       "      <td>No</td>\n",
       "      <td>Bank transfer (automatic)</td>\n",
       "      <td>42.299999</td>\n",
       "      <td>1840.750000</td>\n",
       "      <td>No</td>\n",
       "    </tr>\n",
       "    <tr>\n",
       "      <th>4</th>\n",
       "      <td>9237-HQITU</td>\n",
       "      <td>Female</td>\n",
       "      <td>0</td>\n",
       "      <td>No</td>\n",
       "      <td>No</td>\n",
       "      <td>2</td>\n",
       "      <td>Yes</td>\n",
       "      <td>No</td>\n",
       "      <td>Fiber optic</td>\n",
       "      <td>No</td>\n",
       "      <td>...</td>\n",
       "      <td>No</td>\n",
       "      <td>No</td>\n",
       "      <td>No</td>\n",
       "      <td>No</td>\n",
       "      <td>Month-to-month</td>\n",
       "      <td>Yes</td>\n",
       "      <td>Electronic check</td>\n",
       "      <td>70.699997</td>\n",
       "      <td>151.649994</td>\n",
       "      <td>Yes</td>\n",
       "    </tr>\n",
       "  </tbody>\n",
       "</table>\n",
       "<p>5 rows × 21 columns</p>\n",
       "</div>"
      ],
      "text/plain": [
       "   customerid  gender  seniorcitizen partner dependents  tenure phoneservice  \\\n",
       "0  7590-VHVEG  Female              0     Yes         No       1           No   \n",
       "1  5575-GNVDE    Male              0      No         No      34          Yes   \n",
       "2  3668-QPYBK    Male              0      No         No       2          Yes   \n",
       "3  7795-CFOCW    Male              0      No         No      45           No   \n",
       "4  9237-HQITU  Female              0      No         No       2          Yes   \n",
       "\n",
       "  multiplelines internetservice onlinesecurity  ... deviceprotection  \\\n",
       "0          None             DSL             No  ...               No   \n",
       "1            No             DSL            Yes  ...              Yes   \n",
       "2            No             DSL            Yes  ...               No   \n",
       "3          None             DSL            Yes  ...              Yes   \n",
       "4            No     Fiber optic             No  ...               No   \n",
       "\n",
       "  techsupport streamingtv streamingmovies        contract paperlessbilling  \\\n",
       "0          No          No              No  Month-to-month              Yes   \n",
       "1          No          No              No        One year               No   \n",
       "2          No          No              No  Month-to-month              Yes   \n",
       "3         Yes          No              No        One year               No   \n",
       "4          No          No              No  Month-to-month              Yes   \n",
       "\n",
       "               paymentmethod monthlycharges  totalcharges  churn  \n",
       "0           Electronic check      29.850000     29.850000     No  \n",
       "1               Mailed check      56.950001   1889.500000     No  \n",
       "2               Mailed check      53.849998    108.150002    Yes  \n",
       "3  Bank transfer (automatic)      42.299999   1840.750000     No  \n",
       "4           Electronic check      70.699997    151.649994    Yes  \n",
       "\n",
       "[5 rows x 21 columns]"
      ]
     },
     "execution_count": 19,
     "metadata": {},
     "output_type": "execute_result"
    }
   ],
   "source": [
    "#Check Dataset1 to confirm\n",
    "Dataset1.head()"
   ]
  },
  {
   "cell_type": "markdown",
   "metadata": {},
   "source": [
    "##### Since the columns and values for both datasets are similar now, we will merge both datasets."
   ]
  },
  {
   "cell_type": "code",
   "execution_count": 20,
   "metadata": {},
   "outputs": [],
   "source": [
    "#Merge both datasets\n",
    "df = pd.concat([Dataset1, Dataset2], axis=0)"
   ]
  },
  {
   "cell_type": "code",
   "execution_count": 21,
   "metadata": {},
   "outputs": [
    {
     "data": {
      "text/html": [
       "<div>\n",
       "<style scoped>\n",
       "    .dataframe tbody tr th:only-of-type {\n",
       "        vertical-align: middle;\n",
       "    }\n",
       "\n",
       "    .dataframe tbody tr th {\n",
       "        vertical-align: top;\n",
       "    }\n",
       "\n",
       "    .dataframe thead th {\n",
       "        text-align: right;\n",
       "    }\n",
       "</style>\n",
       "<table border=\"1\" class=\"dataframe\">\n",
       "  <thead>\n",
       "    <tr style=\"text-align: right;\">\n",
       "      <th></th>\n",
       "      <th>customerid</th>\n",
       "      <th>gender</th>\n",
       "      <th>seniorcitizen</th>\n",
       "      <th>partner</th>\n",
       "      <th>dependents</th>\n",
       "      <th>tenure</th>\n",
       "      <th>phoneservice</th>\n",
       "      <th>multiplelines</th>\n",
       "      <th>internetservice</th>\n",
       "      <th>onlinesecurity</th>\n",
       "      <th>...</th>\n",
       "      <th>deviceprotection</th>\n",
       "      <th>techsupport</th>\n",
       "      <th>streamingtv</th>\n",
       "      <th>streamingmovies</th>\n",
       "      <th>contract</th>\n",
       "      <th>paperlessbilling</th>\n",
       "      <th>paymentmethod</th>\n",
       "      <th>monthlycharges</th>\n",
       "      <th>totalcharges</th>\n",
       "      <th>churn</th>\n",
       "    </tr>\n",
       "  </thead>\n",
       "  <tbody>\n",
       "    <tr>\n",
       "      <th>0</th>\n",
       "      <td>7590-VHVEG</td>\n",
       "      <td>Female</td>\n",
       "      <td>0</td>\n",
       "      <td>Yes</td>\n",
       "      <td>No</td>\n",
       "      <td>1</td>\n",
       "      <td>No</td>\n",
       "      <td>None</td>\n",
       "      <td>DSL</td>\n",
       "      <td>No</td>\n",
       "      <td>...</td>\n",
       "      <td>No</td>\n",
       "      <td>No</td>\n",
       "      <td>No</td>\n",
       "      <td>No</td>\n",
       "      <td>Month-to-month</td>\n",
       "      <td>Yes</td>\n",
       "      <td>Electronic check</td>\n",
       "      <td>29.850000</td>\n",
       "      <td>29.85</td>\n",
       "      <td>No</td>\n",
       "    </tr>\n",
       "    <tr>\n",
       "      <th>1</th>\n",
       "      <td>5575-GNVDE</td>\n",
       "      <td>Male</td>\n",
       "      <td>0</td>\n",
       "      <td>No</td>\n",
       "      <td>No</td>\n",
       "      <td>34</td>\n",
       "      <td>Yes</td>\n",
       "      <td>No</td>\n",
       "      <td>DSL</td>\n",
       "      <td>Yes</td>\n",
       "      <td>...</td>\n",
       "      <td>Yes</td>\n",
       "      <td>No</td>\n",
       "      <td>No</td>\n",
       "      <td>No</td>\n",
       "      <td>One year</td>\n",
       "      <td>No</td>\n",
       "      <td>Mailed check</td>\n",
       "      <td>56.950001</td>\n",
       "      <td>1889.5</td>\n",
       "      <td>No</td>\n",
       "    </tr>\n",
       "    <tr>\n",
       "      <th>2</th>\n",
       "      <td>3668-QPYBK</td>\n",
       "      <td>Male</td>\n",
       "      <td>0</td>\n",
       "      <td>No</td>\n",
       "      <td>No</td>\n",
       "      <td>2</td>\n",
       "      <td>Yes</td>\n",
       "      <td>No</td>\n",
       "      <td>DSL</td>\n",
       "      <td>Yes</td>\n",
       "      <td>...</td>\n",
       "      <td>No</td>\n",
       "      <td>No</td>\n",
       "      <td>No</td>\n",
       "      <td>No</td>\n",
       "      <td>Month-to-month</td>\n",
       "      <td>Yes</td>\n",
       "      <td>Mailed check</td>\n",
       "      <td>53.849998</td>\n",
       "      <td>108.150002</td>\n",
       "      <td>Yes</td>\n",
       "    </tr>\n",
       "    <tr>\n",
       "      <th>3</th>\n",
       "      <td>7795-CFOCW</td>\n",
       "      <td>Male</td>\n",
       "      <td>0</td>\n",
       "      <td>No</td>\n",
       "      <td>No</td>\n",
       "      <td>45</td>\n",
       "      <td>No</td>\n",
       "      <td>None</td>\n",
       "      <td>DSL</td>\n",
       "      <td>Yes</td>\n",
       "      <td>...</td>\n",
       "      <td>Yes</td>\n",
       "      <td>Yes</td>\n",
       "      <td>No</td>\n",
       "      <td>No</td>\n",
       "      <td>One year</td>\n",
       "      <td>No</td>\n",
       "      <td>Bank transfer (automatic)</td>\n",
       "      <td>42.299999</td>\n",
       "      <td>1840.75</td>\n",
       "      <td>No</td>\n",
       "    </tr>\n",
       "    <tr>\n",
       "      <th>4</th>\n",
       "      <td>9237-HQITU</td>\n",
       "      <td>Female</td>\n",
       "      <td>0</td>\n",
       "      <td>No</td>\n",
       "      <td>No</td>\n",
       "      <td>2</td>\n",
       "      <td>Yes</td>\n",
       "      <td>No</td>\n",
       "      <td>Fiber optic</td>\n",
       "      <td>No</td>\n",
       "      <td>...</td>\n",
       "      <td>No</td>\n",
       "      <td>No</td>\n",
       "      <td>No</td>\n",
       "      <td>No</td>\n",
       "      <td>Month-to-month</td>\n",
       "      <td>Yes</td>\n",
       "      <td>Electronic check</td>\n",
       "      <td>70.699997</td>\n",
       "      <td>151.649994</td>\n",
       "      <td>Yes</td>\n",
       "    </tr>\n",
       "  </tbody>\n",
       "</table>\n",
       "<p>5 rows × 21 columns</p>\n",
       "</div>"
      ],
      "text/plain": [
       "   customerid  gender  seniorcitizen partner dependents  tenure phoneservice  \\\n",
       "0  7590-VHVEG  Female              0     Yes         No       1           No   \n",
       "1  5575-GNVDE    Male              0      No         No      34          Yes   \n",
       "2  3668-QPYBK    Male              0      No         No       2          Yes   \n",
       "3  7795-CFOCW    Male              0      No         No      45           No   \n",
       "4  9237-HQITU  Female              0      No         No       2          Yes   \n",
       "\n",
       "  multiplelines internetservice onlinesecurity  ... deviceprotection  \\\n",
       "0          None             DSL             No  ...               No   \n",
       "1            No             DSL            Yes  ...              Yes   \n",
       "2            No             DSL            Yes  ...               No   \n",
       "3          None             DSL            Yes  ...              Yes   \n",
       "4            No     Fiber optic             No  ...               No   \n",
       "\n",
       "  techsupport streamingtv streamingmovies        contract paperlessbilling  \\\n",
       "0          No          No              No  Month-to-month              Yes   \n",
       "1          No          No              No        One year               No   \n",
       "2          No          No              No  Month-to-month              Yes   \n",
       "3         Yes          No              No        One year               No   \n",
       "4          No          No              No  Month-to-month              Yes   \n",
       "\n",
       "               paymentmethod monthlycharges  totalcharges churn  \n",
       "0           Electronic check      29.850000         29.85    No  \n",
       "1               Mailed check      56.950001        1889.5    No  \n",
       "2               Mailed check      53.849998    108.150002   Yes  \n",
       "3  Bank transfer (automatic)      42.299999       1840.75    No  \n",
       "4           Electronic check      70.699997    151.649994   Yes  \n",
       "\n",
       "[5 rows x 21 columns]"
      ]
     },
     "execution_count": 21,
     "metadata": {},
     "output_type": "execute_result"
    }
   ],
   "source": [
    "#Check merged dataframe\n",
    "df.head()"
   ]
  },
  {
   "cell_type": "code",
   "execution_count": 22,
   "metadata": {},
   "outputs": [
    {
     "data": {
      "text/plain": [
       "(5043, 21)"
      ]
     },
     "execution_count": 22,
     "metadata": {},
     "output_type": "execute_result"
    }
   ],
   "source": [
    "#Check rows and columns\n",
    "df.shape"
   ]
  },
  {
   "cell_type": "code",
   "execution_count": 23,
   "metadata": {},
   "outputs": [
    {
     "name": "stdout",
     "output_type": "stream",
     "text": [
      "<class 'pandas.core.frame.DataFrame'>\n",
      "Index: 5043 entries, 0 to 2042\n",
      "Data columns (total 21 columns):\n",
      " #   Column            Non-Null Count  Dtype  \n",
      "---  ------            --------------  -----  \n",
      " 0   customerid        5043 non-null   object \n",
      " 1   gender            5043 non-null   object \n",
      " 2   seniorcitizen     5043 non-null   int64  \n",
      " 3   partner           5043 non-null   object \n",
      " 4   dependents        5043 non-null   object \n",
      " 5   tenure            5043 non-null   int64  \n",
      " 6   phoneservice      5043 non-null   object \n",
      " 7   multiplelines     4774 non-null   object \n",
      " 8   internetservice   5043 non-null   object \n",
      " 9   onlinesecurity    4392 non-null   object \n",
      " 10  onlinebackup      4392 non-null   object \n",
      " 11  deviceprotection  4392 non-null   object \n",
      " 12  techsupport       4392 non-null   object \n",
      " 13  streamingtv       4392 non-null   object \n",
      " 14  streamingmovies   4392 non-null   object \n",
      " 15  contract          5043 non-null   object \n",
      " 16  paperlessbilling  5043 non-null   object \n",
      " 17  paymentmethod     5043 non-null   object \n",
      " 18  monthlycharges    5043 non-null   float64\n",
      " 19  totalcharges      5038 non-null   object \n",
      " 20  churn             5042 non-null   object \n",
      "dtypes: float64(1), int64(2), object(18)\n",
      "memory usage: 866.8+ KB\n"
     ]
    }
   ],
   "source": [
    "#Check cell values\n",
    "df.info()"
   ]
  },
  {
   "cell_type": "markdown",
   "metadata": {},
   "source": [
    "##### The 'totalcharges' column has the wrong datatype. It will be converted into a float. "
   ]
  },
  {
   "cell_type": "code",
   "execution_count": 24,
   "metadata": {},
   "outputs": [],
   "source": [
    "#Convert 'totalcharges' column to numeric (float)\n",
    "df['totalcharges'] = pd.to_numeric(df['totalcharges'], errors='coerce')"
   ]
  },
  {
   "cell_type": "code",
   "execution_count": 25,
   "metadata": {},
   "outputs": [
    {
     "name": "stdout",
     "output_type": "stream",
     "text": [
      "<class 'pandas.core.frame.DataFrame'>\n",
      "Index: 5043 entries, 0 to 2042\n",
      "Data columns (total 21 columns):\n",
      " #   Column            Non-Null Count  Dtype  \n",
      "---  ------            --------------  -----  \n",
      " 0   customerid        5043 non-null   object \n",
      " 1   gender            5043 non-null   object \n",
      " 2   seniorcitizen     5043 non-null   int64  \n",
      " 3   partner           5043 non-null   object \n",
      " 4   dependents        5043 non-null   object \n",
      " 5   tenure            5043 non-null   int64  \n",
      " 6   phoneservice      5043 non-null   object \n",
      " 7   multiplelines     4774 non-null   object \n",
      " 8   internetservice   5043 non-null   object \n",
      " 9   onlinesecurity    4392 non-null   object \n",
      " 10  onlinebackup      4392 non-null   object \n",
      " 11  deviceprotection  4392 non-null   object \n",
      " 12  techsupport       4392 non-null   object \n",
      " 13  streamingtv       4392 non-null   object \n",
      " 14  streamingmovies   4392 non-null   object \n",
      " 15  contract          5043 non-null   object \n",
      " 16  paperlessbilling  5043 non-null   object \n",
      " 17  paymentmethod     5043 non-null   object \n",
      " 18  monthlycharges    5043 non-null   float64\n",
      " 19  totalcharges      5035 non-null   float64\n",
      " 20  churn             5042 non-null   object \n",
      "dtypes: float64(2), int64(2), object(17)\n",
      "memory usage: 866.8+ KB\n"
     ]
    }
   ],
   "source": [
    "#Check cell values\n",
    "df.info()"
   ]
  },
  {
   "cell_type": "code",
   "execution_count": 26,
   "metadata": {},
   "outputs": [
    {
     "data": {
      "text/plain": [
       "0"
      ]
     },
     "execution_count": 26,
     "metadata": {},
     "output_type": "execute_result"
    }
   ],
   "source": [
    "#Check for duplicates\n",
    "df.duplicated().sum()"
   ]
  },
  {
   "cell_type": "code",
   "execution_count": 27,
   "metadata": {},
   "outputs": [
    {
     "data": {
      "text/plain": [
       "customerid            0\n",
       "gender                0\n",
       "seniorcitizen         0\n",
       "partner               0\n",
       "dependents            0\n",
       "tenure                0\n",
       "phoneservice          0\n",
       "multiplelines       269\n",
       "internetservice       0\n",
       "onlinesecurity      651\n",
       "onlinebackup        651\n",
       "deviceprotection    651\n",
       "techsupport         651\n",
       "streamingtv         651\n",
       "streamingmovies     651\n",
       "contract              0\n",
       "paperlessbilling      0\n",
       "paymentmethod         0\n",
       "monthlycharges        0\n",
       "totalcharges          8\n",
       "churn                 1\n",
       "dtype: int64"
      ]
     },
     "execution_count": 27,
     "metadata": {},
     "output_type": "execute_result"
    }
   ],
   "source": [
    "#Check missing values\n",
    "df.isna().sum()"
   ]
  },
  {
   "cell_type": "markdown",
   "metadata": {},
   "source": [
    "##### Check the columns"
   ]
  },
  {
   "cell_type": "code",
   "execution_count": 28,
   "metadata": {},
   "outputs": [
    {
     "name": "stdout",
     "output_type": "stream",
     "text": [
      "Unique values in column 'customerid': ['7590-VHVEG' '5575-GNVDE' '3668-QPYBK' ... '4801-JZAZL' '8361-LTMKD'\n",
      " '3186-AJIEK']\n",
      "Unique values in column 'gender': ['Female' 'Male']\n",
      "Unique values in column 'seniorcitizen': [0 1]\n",
      "Unique values in column 'partner': ['Yes' 'No']\n",
      "Unique values in column 'dependents': ['No' 'Yes']\n",
      "Unique values in column 'tenure': [ 1 34  2 45  8 22 10 28 62 13 16 58 49 25 69 52 71 21 12 30 47 72 17 27\n",
      "  5 46 11 70 63 43 15 60 18 66  9  3 31 50 64 56  7 42 35 48 29 65 38 68\n",
      " 32 55 37 36 41  6  4 33 67 23 57 61 14 20 53 40 59 24 44 19 54 51 26  0\n",
      " 39]\n",
      "Unique values in column 'phoneservice': ['No' 'Yes']\n",
      "Unique values in column 'multiplelines': [None 'No' 'Yes' 'No phone service']\n",
      "Unique values in column 'internetservice': ['DSL' 'Fiber optic' 'No']\n",
      "Unique values in column 'onlinesecurity': ['No' 'Yes' None 'No internet service']\n",
      "Unique values in column 'onlinebackup': ['Yes' 'No' None 'No internet service']\n",
      "Unique values in column 'deviceprotection': ['No' 'Yes' None 'No internet service']\n",
      "Unique values in column 'techsupport': ['No' 'Yes' None 'No internet service']\n",
      "Unique values in column 'streamingtv': ['No' 'Yes' None 'No internet service']\n",
      "Unique values in column 'streamingmovies': ['No' 'Yes' None 'No internet service']\n",
      "Unique values in column 'contract': ['Month-to-month' 'One year' 'Two year']\n",
      "Unique values in column 'paperlessbilling': ['Yes' 'No']\n",
      "Unique values in column 'paymentmethod': ['Electronic check' 'Mailed check' 'Bank transfer (automatic)'\n",
      " 'Credit card (automatic)']\n",
      "Unique values in column 'monthlycharges': [ 29.85000038  56.95000076  53.84999847 ...  78.7         60.65\n",
      " 103.2       ]\n",
      "Unique values in column 'totalcharges': [  29.85000038 1889.5         108.15000153 ...  346.45        306.6\n",
      " 6844.5       ]\n",
      "Unique values in column 'churn': ['No' 'Yes' None]\n"
     ]
    }
   ],
   "source": [
    "def check_unique_values(df):\n",
    "    for column in df.columns:\n",
    "        unique_values = df[column].unique()\n",
    "        print(f\"Unique values in column '{column}': {unique_values}\")\n",
    "\n",
    "#Check for Dataset2\n",
    "check_unique_values(df)"
   ]
  },
  {
   "cell_type": "markdown",
   "metadata": {},
   "source": [
    "##### Univariate Analysis"
   ]
  },
  {
   "cell_type": "markdown",
   "metadata": {},
   "source": [
    "##### Distribution of Categorical Variables"
   ]
  },
  {
   "cell_type": "code",
   "execution_count": 29,
   "metadata": {},
   "outputs": [
    {
     "data": {
      "image/png": "[encoded data removed]",
      "text/plain": [
       "<Figure size 1800x1800 with 16 Axes>"
      ]
     },
     "metadata": {},
     "output_type": "display_data"
    }
   ],
   "source": [
    "\n",
    "#List of categorical columns\n",
    "categorical_columns = ['gender', 'partner', 'dependents', 'phoneservice', 'multiplelines', \n",
    "                       'internetservice', 'onlinesecurity', 'onlinebackup', 'deviceprotection', \n",
    "                       'techsupport', 'streamingtv', 'streamingmovies', 'contract', \n",
    "                       'paperlessbilling', 'paymentmethod', 'churn']\n",
    "\n",
    "#Set up the figure and axes for plotting\n",
    "fig, axes = plt.subplots(nrows=4, ncols=4, figsize=(18, 18))\n",
    "axes = axes.flatten()\n",
    "\n",
    "#Loop through each categorical column and plot the frequency of each category\n",
    "for i, column in enumerate(categorical_columns):\n",
    "    #Check for duplicate labels and drop them\n",
    "    unique_values = df[column].unique()\n",
    "    if len(unique_values) != df[column].nunique():\n",
    "        df_unique = df.drop_duplicates(subset=column)\n",
    "        sns.countplot(x=column, data=df_unique, ax=axes[i])\n",
    "    else:\n",
    "        sns.countplot(x=column, data=df, ax=axes[i])\n",
    "    axes[i].set_title(f'Distribution of {column}')\n",
    "    axes[i].set_xlabel(column)\n",
    "    axes[i].set_ylabel('Frequency')\n",
    "\n",
    "#Adjust layout\n",
    "plt.tight_layout()\n",
    "plt.show()"
   ]
  },
  {
   "cell_type": "markdown",
   "metadata": {},
   "source": [
    "##### Distribution of Numerical Variables"
   ]
  },
  {
   "cell_type": "code",
   "execution_count": 30,
   "metadata": {},
   "outputs": [
    {
     "data": {
      "image/png": "[encoded data removed]",
      "text/plain": [
       "<Figure size 800x1500 with 3 Axes>"
      ]
     },
     "metadata": {},
     "output_type": "display_data"
    }
   ],
   "source": [
    "#List of numerical columns\n",
    "numerical_columns = ['tenure', 'monthlycharges', 'totalcharges']\n",
    "\n",
    "#Set up the figure and axes for plotting\n",
    "fig, axes = plt.subplots(nrows=len(numerical_columns), ncols=1, figsize=(8, 5*len(numerical_columns)))\n",
    "\n",
    "#Loop through each numerical column and plot its histogram\n",
    "for i, column in enumerate(numerical_columns):\n",
    "    df[column].hist(ax=axes[i], bins=20, color='skyblue', edgecolor='black')\n",
    "    axes[i].set_title(f'Distribution of {column}')\n",
    "    axes[i].set_xlabel(column)\n",
    "    axes[i].set_ylabel('Frequency')\n",
    "\n",
    "#Adjust layout\n",
    "plt.tight_layout()\n",
    "plt.show()"
   ]
  },
  {
   "cell_type": "code",
   "execution_count": 31,
   "metadata": {},
   "outputs": [
    {
     "data": {
      "image/png": "[encoded data removed]",
      "text/plain": [
       "<Figure size 640x480 with 1 Axes>"
      ]
     },
     "metadata": {},
     "output_type": "display_data"
    }
   ],
   "source": [
    "#Boolean variable to analyze\n",
    "boolean_variable = 'seniorcitizen'\n",
    "\n",
    "#Calculate the proportion of 'True' and 'False' values\n",
    "proportion_true = df[boolean_variable].sum() / len(df)\n",
    "proportion_false = 1 - proportion_true\n",
    "\n",
    "#Plot the proportions\n",
    "sns.barplot(x=['True', 'False'], y=[proportion_true, proportion_false])\n",
    "plt.title(f'Proportion of True and False values in {boolean_variable}')\n",
    "plt.xlabel('Value')\n",
    "plt.ylabel('Proportion')\n",
    "plt.show()"
   ]
  },
  {
   "cell_type": "markdown",
   "metadata": {},
   "source": [
    "##### Check for Outliers"
   ]
  },
  {
   "cell_type": "code",
   "execution_count": 32,
   "metadata": {},
   "outputs": [
    {
     "data": {
      "text/html": [
       "<div>\n",
       "<style scoped>\n",
       "    .dataframe tbody tr th:only-of-type {\n",
       "        vertical-align: middle;\n",
       "    }\n",
       "\n",
       "    .dataframe tbody tr th {\n",
       "        vertical-align: top;\n",
       "    }\n",
       "\n",
       "    .dataframe thead th {\n",
       "        text-align: right;\n",
       "    }\n",
       "</style>\n",
       "<table border=\"1\" class=\"dataframe\">\n",
       "  <thead>\n",
       "    <tr style=\"text-align: right;\">\n",
       "      <th></th>\n",
       "      <th>count</th>\n",
       "      <th>mean</th>\n",
       "      <th>std</th>\n",
       "      <th>min</th>\n",
       "      <th>25%</th>\n",
       "      <th>50%</th>\n",
       "      <th>75%</th>\n",
       "      <th>max</th>\n",
       "    </tr>\n",
       "  </thead>\n",
       "  <tbody>\n",
       "    <tr>\n",
       "      <th>seniorcitizen</th>\n",
       "      <td>5043.0</td>\n",
       "      <td>0.162403</td>\n",
       "      <td>0.368857</td>\n",
       "      <td>0.000000</td>\n",
       "      <td>0.000000</td>\n",
       "      <td>0.000000</td>\n",
       "      <td>0.000000</td>\n",
       "      <td>1.000000</td>\n",
       "    </tr>\n",
       "    <tr>\n",
       "      <th>tenure</th>\n",
       "      <td>5043.0</td>\n",
       "      <td>32.576641</td>\n",
       "      <td>24.529807</td>\n",
       "      <td>0.000000</td>\n",
       "      <td>9.000000</td>\n",
       "      <td>29.000000</td>\n",
       "      <td>56.000000</td>\n",
       "      <td>72.000000</td>\n",
       "    </tr>\n",
       "    <tr>\n",
       "      <th>monthlycharges</th>\n",
       "      <td>5043.0</td>\n",
       "      <td>65.090214</td>\n",
       "      <td>30.068133</td>\n",
       "      <td>18.400000</td>\n",
       "      <td>35.775000</td>\n",
       "      <td>70.550003</td>\n",
       "      <td>90.050003</td>\n",
       "      <td>118.650002</td>\n",
       "    </tr>\n",
       "    <tr>\n",
       "      <th>totalcharges</th>\n",
       "      <td>5035.0</td>\n",
       "      <td>2302.062861</td>\n",
       "      <td>2269.483576</td>\n",
       "      <td>18.799999</td>\n",
       "      <td>417.675003</td>\n",
       "      <td>1401.150024</td>\n",
       "      <td>3862.000000</td>\n",
       "      <td>8670.100000</td>\n",
       "    </tr>\n",
       "  </tbody>\n",
       "</table>\n",
       "</div>"
      ],
      "text/plain": [
       "                 count         mean          std        min         25%  \\\n",
       "seniorcitizen   5043.0     0.162403     0.368857   0.000000    0.000000   \n",
       "tenure          5043.0    32.576641    24.529807   0.000000    9.000000   \n",
       "monthlycharges  5043.0    65.090214    30.068133  18.400000   35.775000   \n",
       "totalcharges    5035.0  2302.062861  2269.483576  18.799999  417.675003   \n",
       "\n",
       "                        50%          75%          max  \n",
       "seniorcitizen      0.000000     0.000000     1.000000  \n",
       "tenure            29.000000    56.000000    72.000000  \n",
       "monthlycharges    70.550003    90.050003   118.650002  \n",
       "totalcharges    1401.150024  3862.000000  8670.100000  "
      ]
     },
     "execution_count": 32,
     "metadata": {},
     "output_type": "execute_result"
    }
   ],
   "source": [
    "#Check summary statistics\n",
    "df.describe().T"
   ]
  },
  {
   "cell_type": "markdown",
   "metadata": {},
   "source": [
    "##### Observation\n",
    "1. The 'seniorcitizen', 'tenure' and 'monthlycharges' columns do not have any missing values but the 'totalcharges' column has missing values.\n",
    "2. The average monthlycharge is approximately 65.09, the minimum monthlycharge is approximately 18.4 and the maximum monthlycharge is approximately 118.65. \n",
    "3. In the 'tenure' column, the standard deviation is approximately 24.53, indicating that the values are spread out over a wide range. "
   ]
  },
  {
   "cell_type": "code",
   "execution_count": 33,
   "metadata": {},
   "outputs": [
    {
     "data": {
      "image/png": "[encoded data removed]",
      "text/plain": [
       "<Figure size 1000x600 with 1 Axes>"
      ]
     },
     "metadata": {},
     "output_type": "display_data"
    }
   ],
   "source": [
    "#Check 'tenure' \n",
    "numerical_column = ['tenure']\n",
    "plt.figure(figsize=(10, 6))\n",
    "sns.boxplot(data=df[numerical_column])\n",
    "plt.title('Box Plot of Tenure')\n",
    "plt.xlabel('Variable')\n",
    "plt.ylabel('Value')\n",
    "plt.xticks(rotation=45)\n",
    "plt.show()"
   ]
  },
  {
   "cell_type": "code",
   "execution_count": 34,
   "metadata": {},
   "outputs": [
    {
     "data": {
      "image/png": "[encoded data removed]",
      "text/plain": [
       "<Figure size 1000x600 with 1 Axes>"
      ]
     },
     "metadata": {},
     "output_type": "display_data"
    }
   ],
   "source": [
    "#Check 'monthlycharges' \n",
    "numerical_column = ['monthlycharges']\n",
    "plt.figure(figsize=(10, 6))\n",
    "sns.boxplot(data=df[numerical_column])\n",
    "plt.title('Box Plot of MonthlyCharges')\n",
    "plt.xlabel('Variable')\n",
    "plt.ylabel('Value')\n",
    "plt.xticks(rotation=45)\n",
    "plt.show()"
   ]
  },
  {
   "cell_type": "code",
   "execution_count": 35,
   "metadata": {},
   "outputs": [
    {
     "data": {
      "image/png": "[encoded data removed]",
      "text/plain": [
       "<Figure size 1000x600 with 1 Axes>"
      ]
     },
     "metadata": {},
     "output_type": "display_data"
    }
   ],
   "source": [
    "#Check 'totalcharges' \n",
    "numerical_column = ['totalcharges']\n",
    "plt.figure(figsize=(10, 6))\n",
    "sns.boxplot(data=df[numerical_column])\n",
    "plt.title('Box Plot of TotalCharges')\n",
    "plt.xlabel('Variable')\n",
    "plt.ylabel('Value')\n",
    "plt.xticks(rotation=45)\n",
    "plt.show()"
   ]
  },
  {
   "cell_type": "markdown",
   "metadata": {},
   "source": [
    "##### Observation\n",
    "1. This shows all the columns do not have any outliers.\n",
    "2. The 'tenure' boxplot suggests a fairly even distribution of tenure values across the dataset.\n",
    "3. The 'monthlycharges' boxplot suggests that most customers have monthly charges clustered around the median, with a fairly consistent spread across the quartiles.\n",
    "4. The 'totalcharges' values are concentrated between approximately 2000 and 4000, with the median closer to Q3, suggesting a skew towards higher charges."
   ]
  },
  {
   "cell_type": "markdown",
   "metadata": {},
   "source": [
    "##### Bivariate Analysis"
   ]
  },
  {
   "cell_type": "markdown",
   "metadata": {},
   "source": [
    "##### Gender Vrs Churn Rate"
   ]
  },
  {
   "cell_type": "code",
   "execution_count": 36,
   "metadata": {},
   "outputs": [
    {
     "name": "stdout",
     "output_type": "stream",
     "text": [
      "churn     No  Yes\n",
      "gender           \n",
      "Female  1823  661\n",
      "Male    1883  675\n"
     ]
    }
   ],
   "source": [
    "#Get the count of churn for each gender\n",
    "gender_churn_counts = df.groupby(['gender', 'churn']).size().unstack(fill_value=0)\n",
    "\n",
    "print(gender_churn_counts)"
   ]
  },
  {
   "cell_type": "code",
   "execution_count": 37,
   "metadata": {},
   "outputs": [
    {
     "data": {
      "image/png": "[encoded data removed]",
      "text/plain": [
       "<Figure size 800x600 with 1 Axes>"
      ]
     },
     "metadata": {},
     "output_type": "display_data"
    }
   ],
   "source": [
    "#Plot Gender vs. Churn\n",
    "plt.figure(figsize=(8, 6))\n",
    "sns.countplot(x='gender', hue='churn', data=df)\n",
    "plt.title('Gender vs. Churn')\n",
    "plt.xlabel('Gender')\n",
    "plt.ylabel('Count')\n",
    "plt.legend(title='Churn', labels=['No', 'Yes'])\n",
    "plt.show()"
   ]
  },
  {
   "cell_type": "markdown",
   "metadata": {},
   "source": [
    "##### This implies that among females, 1823 customers did not churn, and 661 customers did churn. Similarly, among males, 1883 customers did not churn, and 675 customers did churn. "
   ]
  },
  {
   "cell_type": "markdown",
   "metadata": {},
   "source": [
    "##### Correlation of Numerical Variables"
   ]
  },
  {
   "cell_type": "code",
   "execution_count": 38,
   "metadata": {},
   "outputs": [
    {
     "data": {
      "image/png": "[encoded data removed]",
      "text/plain": [
       "<Figure size 800x600 with 2 Axes>"
      ]
     },
     "metadata": {},
     "output_type": "display_data"
    }
   ],
   "source": [
    "#Select the relevant columns\n",
    "selected_columns = ['tenure', 'monthlycharges', 'totalcharges']\n",
    "selected_corr_matrix = df[selected_columns].corr()\n",
    "\n",
    "#Plot the heatmap\n",
    "plt.figure(figsize=(8, 6))\n",
    "sns.heatmap(selected_corr_matrix, annot=True, cmap='coolwarm', fmt=\".2f\")\n",
    "plt.title('Heatmap of Numerical Variables')\n",
    "plt.show()"
   ]
  },
  {
   "cell_type": "markdown",
   "metadata": {},
   "source": [
    "##### Observations\n",
    "1. Tenure vs. Monthly Charges: There’s a weak positive correlation of (0.24), suggesting that as tenure increases, monthly charges tend to increase slightly.\n",
    "2. Tenure vs. Total Charges: A strong positive correlation of (0.83) is observed here, indicating that longer tenure is strongly associated with higher total charges.\n",
    "3. Monthly Charges vs. Total Charges: This pair shows a moderate positive correlation of (0.65), meaning as monthly charges increase, total charges also tend to increase."
   ]
  },
  {
   "cell_type": "markdown",
   "metadata": {},
   "source": [
    "##### Contract Vrs Churn"
   ]
  },
  {
   "cell_type": "code",
   "execution_count": 39,
   "metadata": {},
   "outputs": [
    {
     "name": "stdout",
     "output_type": "stream",
     "text": [
      "contract        churn\n",
      "Month-to-month  No       1560\n",
      "                Yes      1184\n",
      "One year        No        933\n",
      "                Yes       122\n",
      "Two year        No       1213\n",
      "                Yes        30\n",
      "dtype: int64\n"
     ]
    }
   ],
   "source": [
    "contract_churn_counts = df.groupby(['contract', 'churn']).size()\n",
    "print(contract_churn_counts)"
   ]
  },
  {
   "cell_type": "code",
   "execution_count": 40,
   "metadata": {},
   "outputs": [
    {
     "data": {
      "image/png": "[encoded data removed]",
      "text/plain": [
       "<Figure size 1000x600 with 1 Axes>"
      ]
     },
     "metadata": {},
     "output_type": "display_data"
    }
   ],
   "source": [
    "#Create a bar plot\n",
    "plt.figure(figsize=(10, 6))\n",
    "sns.countplot(x='contract', hue='churn', data=df)\n",
    "plt.title('Contract vs. Churn')\n",
    "plt.xlabel('Contract')\n",
    "plt.ylabel('Count')\n",
    "plt.legend(title='Churn', loc='upper right')\n",
    "plt.show()\n"
   ]
  },
  {
   "cell_type": "markdown",
   "metadata": {},
   "source": [
    "##### Observations\n",
    "1. For customers with a 'Month-to-month' contract, there are 1560 customers who did not churn (No) and 1184 customers who did churn (Yes).\n",
    "2. For customers with a 'One year' contract, there are 933 customers who did not churn and 122 customers who did churn.\n",
    "3. For customers with a 'Two year' contract, there are 1213 customers who did not churn and 30 customers who did churn.\n",
    "4. It can be concluded that customers with shorter-term contracts (like 'Month-to-month') tend to churn more compared to those with longer-term contracts."
   ]
  },
  {
   "cell_type": "markdown",
   "metadata": {},
   "source": [
    "##### Multivariate Analysis"
   ]
  },
  {
   "cell_type": "markdown",
   "metadata": {},
   "source": [
    "##### The 'churn' column contains string values ('Yes' and 'No'), which cannot be converted to float for correlation calculation. To perform correlation analysis, we need to encode these categorical values into numerical values first. One common approach is to use label encoding, where 'Yes' is replaced with 1 and 'No' is replaced with 0."
   ]
  },
  {
   "cell_type": "code",
   "execution_count": 41,
   "metadata": {},
   "outputs": [
    {
     "name": "stdout",
     "output_type": "stream",
     "text": [
      "                  tenure  monthlycharges  totalcharges  churn_encoded\n",
      "tenure          1.000000        0.240645      0.826264      -0.348894\n",
      "monthlycharges  0.240645        1.000000      0.647007       0.203117\n",
      "totalcharges    0.826264        0.647007      1.000000      -0.192298\n",
      "churn_encoded  -0.348894        0.203117     -0.192298       1.000000\n"
     ]
    }
   ],
   "source": [
    "#Initialize LabelEncoder\n",
    "label_encoder = LabelEncoder()\n",
    "\n",
    "#Encode the 'churn' column\n",
    "df['churn_encoded'] = label_encoder.fit_transform(df['churn'])\n",
    "\n",
    "#Calculate correlation matrix\n",
    "correlation_matrix = df[['tenure', 'monthlycharges', 'totalcharges', 'churn_encoded']].corr()\n",
    "\n",
    "#Display correlation matrix\n",
    "print(correlation_matrix)"
   ]
  },
  {
   "cell_type": "code",
   "execution_count": 42,
   "metadata": {},
   "outputs": [
    {
     "data": {
      "image/png": "[encoded data removed]",
      "text/plain": [
       "<Figure size 1000x800 with 2 Axes>"
      ]
     },
     "metadata": {},
     "output_type": "display_data"
    }
   ],
   "source": [
    "#Plotting the heatmap\n",
    "plt.figure(figsize=(10, 8))\n",
    "sns.heatmap(correlation_matrix, annot=True, cmap='coolwarm', fmt=\".2f\", linewidths=0.5)\n",
    "plt.title('Correlation Matrix')\n",
    "plt.show()"
   ]
  },
  {
   "cell_type": "markdown",
   "metadata": {},
   "source": [
    "##### Observations\n",
    "1. tenure vs. monthlycharges: There is a positive correlation of approximately 0.24, indicating that as tenure increases, monthly charges also tend to increase, but the correlation is not very strong.\n",
    "2. tenure vs. totalcharges: There is a strong positive correlation of approximately 0.83, suggesting that as tenure increases, total charges also increase.\n",
    "3. tenure vs. churn_encoded: There is a negative correlation of approximately -0.35, indicating that as tenure increases, the likelihood of churn decreases."
   ]
  },
  {
   "cell_type": "markdown",
   "metadata": {},
   "source": [
    "#### HYPOTHESIS TESTING\n"
   ]
  },
  {
   "cell_type": "markdown",
   "metadata": {},
   "source": [
    "##### Null Hypothesis: There is no relationship between the tenure and the churn of customers.\n",
    "Alternate Hypothesis: There is a relationship between the tenure and the churn of customers."
   ]
  },
  {
   "cell_type": "code",
   "execution_count": 43,
   "metadata": {},
   "outputs": [
    {
     "name": "stdout",
     "output_type": "stream",
     "text": [
      "Chi-square statistic: 774.1801118993867\n",
      "P-value: 3.084245822214292e-118\n",
      "Degrees of freedom: 72\n",
      "Reject the null hypothesis: There is a relationship between tenure and churn.\n"
     ]
    }
   ],
   "source": [
    "#Create a contingency table\n",
    "contingency_table = pd.crosstab(df['tenure'], df['churn'])\n",
    "\n",
    "#Perform chi-square test\n",
    "chi2, p, dof, expected = chi2_contingency(contingency_table)\n",
    "\n",
    "#Set significance level\n",
    "alpha = 0.05\n",
    "\n",
    "print(\"Chi-square statistic:\", chi2)\n",
    "print(\"P-value:\", p)\n",
    "print(\"Degrees of freedom:\", dof)\n",
    "\n",
    "#Compare p-value with alpha to make a decision\n",
    "if p < alpha:\n",
    "    print(\"Reject the null hypothesis: There is a relationship between tenure and churn.\")\n",
    "else:\n",
    "    print(\"Fail to reject the null hypothesis: There is no relationship between tenure and churn.\")\n"
   ]
  },
  {
   "cell_type": "markdown",
   "metadata": {},
   "source": [
    "##### Based on the p-value (which is far below the significance level of 0.05), we reject the null hypothesis. This means that there is sufficient evidence to conclude that there is a statistically significant relationship between tenure and churn."
   ]
  },
  {
   "cell_type": "markdown",
   "metadata": {},
   "source": [
    "#### ANSWERING THE ANALYTICAL QUESTIONS"
   ]
  },
  {
   "cell_type": "markdown",
   "metadata": {},
   "source": [
    "1. What is the overall churn rate against retained customers?\n",
    "2. Does churn rate differ based on the payment method?\n",
    "3. What is the churn rate of customers based on their seniority?\n",
    "4. What is the churn rate of customers based on their monthlycharges?\n",
    "5. What is the churn rate of customers based on their contract type?\n",
    "6. What is the churn rate of customers based on their gender?"
   ]
  },
  {
   "cell_type": "markdown",
   "metadata": {},
   "source": [
    "##### Question One: What is the overall churn rate against retained customers?"
   ]
  },
  {
   "cell_type": "code",
   "execution_count": 44,
   "metadata": {},
   "outputs": [
    {
     "name": "stdout",
     "output_type": "stream",
     "text": [
      "Overall churn rate: 26.492167360697998\n"
     ]
    }
   ],
   "source": [
    "#Count the number of customers who churned\n",
    "churned_count = df['churn'].value_counts()['Yes']\n",
    "\n",
    "#Calculate the total number of customers\n",
    "total_customers = len(df)\n",
    "\n",
    "#Calculate the overall churn rate\n",
    "overall_churn_rate = (churned_count / total_customers) * 100\n",
    "\n",
    "print(\"Overall churn rate:\", overall_churn_rate)"
   ]
  },
  {
   "cell_type": "code",
   "execution_count": 45,
   "metadata": {},
   "outputs": [
    {
     "data": {
      "image/png": "[encoded data removed]",
      "text/plain": [
       "<Figure size 800x600 with 1 Axes>"
      ]
     },
     "metadata": {},
     "output_type": "display_data"
    }
   ],
   "source": [
    "#Calculate the churn rates as percentages\n",
    "churn_rate_percentage = (churned_count / total_customers) * 100\n",
    "retention_rate_percentage = 100 - churn_rate_percentage\n",
    "\n",
    "#Create a bar plot\n",
    "plt.figure(figsize=(8, 6))\n",
    "bars = plt.bar([\"Churned\", \"Retained\"], [churn_rate_percentage, retention_rate_percentage], color=['orange', 'skyblue'])\n",
    "plt.title(\"Overall Churn Rate\")\n",
    "plt.ylabel(\"Percentage\")\n",
    "plt.ylim(0, 100)\n",
    "\n",
    "#Show the percentages on the bars\n",
    "for bar in bars:\n",
    "    yval = bar.get_height()\n",
    "    plt.text(bar.get_x() + bar.get_width() / 2, yval, f\"{yval:.2f}%\", va='bottom')\n",
    "\n",
    "plt.show()"
   ]
  },
  {
   "cell_type": "markdown",
   "metadata": {},
   "source": [
    "##### This shows a bar plot with two bars: one for the churned customers and one for the retained customers. It shows there are more retained customers than customers that churned. "
   ]
  },
  {
   "cell_type": "markdown",
   "metadata": {},
   "source": [
    "##### Question Two: Does churn rate differ based on the payment method?"
   ]
  },
  {
   "cell_type": "code",
   "execution_count": 46,
   "metadata": {},
   "outputs": [
    {
     "data": {
      "image/png": "[encoded data removed]",
      "text/plain": [
       "<Figure size 1000x600 with 1 Axes>"
      ]
     },
     "metadata": {},
     "output_type": "display_data"
    }
   ],
   "source": [
    "#Calculate churn rate for each payment method\n",
    "payment_churn_rates = df.groupby('paymentmethod')['churn'].value_counts(normalize=True).loc[:, 'Yes'] * 100\n",
    "\n",
    "# Plot churn rate based on payment method\n",
    "plt.figure(figsize=(10, 6))\n",
    "ax = payment_churn_rates.plot(kind='bar', color='skyblue')\n",
    "plt.title('Churn Rate by Payment Method')\n",
    "plt.xlabel('Payment Method')\n",
    "plt.ylabel('Churn Rate (%)')\n",
    "plt.xticks(rotation=45, ha='right')\n",
    "\n",
    "#Add labels on top of each bar\n",
    "for i, rate in enumerate(payment_churn_rates):\n",
    "    plt.text(i, rate, f'{rate:.2f}%', ha='center', va='bottom')\n",
    "\n",
    "plt.tight_layout()\n",
    "plt.show()"
   ]
  },
  {
   "cell_type": "markdown",
   "metadata": {},
   "source": [
    "##### This shows that customers using electronic check have the highest churn rate, which could suggest issues with this payment method. This might be as a result of user dissatisfaction hence requires further investigation and improvement of the payment process."
   ]
  },
  {
   "cell_type": "markdown",
   "metadata": {},
   "source": [
    "##### Question Three: What is the churn rate of customers based on their Seniority?"
   ]
  },
  {
   "cell_type": "code",
   "execution_count": 47,
   "metadata": {},
   "outputs": [
    {
     "data": {
      "image/png": "[encoded data removed]",
      "text/plain": [
       "<Figure size 800x800 with 1 Axes>"
      ]
     },
     "metadata": {},
     "output_type": "display_data"
    }
   ],
   "source": [
    "# Calculate churn rate based on seniority\n",
    "seniority_churn_rate = df.groupby('seniorcitizen')['churn'].value_counts(normalize=True)[:, 'Yes'] * 100\n",
    "\n",
    "# Plot churn rate based on seniority using a pie chart\n",
    "plt.figure(figsize=(8, 8))\n",
    "plt.pie(seniority_churn_rate, labels=['Senior Citizen' if seniority == 1 else 'Non-Senior Citizen' for seniority in seniority_churn_rate.index], autopct='%1.1f%%', startangle=140)\n",
    "plt.title('Churn Rate by Seniority')\n",
    "plt.axis('equal')  # Equal aspect ratio ensures that pie is drawn as a circle\n",
    "plt.show()\n"
   ]
  },
  {
   "cell_type": "markdown",
   "metadata": {},
   "source": [
    "##### Question Four: What is the churn rate of customers based on their monthlycharges?"
   ]
  },
  {
   "cell_type": "code",
   "execution_count": 48,
   "metadata": {},
   "outputs": [
    {
     "name": "stdout",
     "output_type": "stream",
     "text": [
      "[ 29.85000038  56.95000076  53.84999847 ...  78.7         60.65\n",
      " 103.2       ]\n"
     ]
    }
   ],
   "source": [
    "#Check unique values in the monthlycharges column\n",
    "unique_monthlycharges = df['monthlycharges'].unique()\n",
    "\n",
    "#Print unique values\n",
    "print(unique_monthlycharges)"
   ]
  },
  {
   "cell_type": "code",
   "execution_count": 49,
   "metadata": {},
   "outputs": [
    {
     "data": {
      "image/png": "[encoded data removed]",
      "text/plain": [
       "<Figure size 1000x600 with 1 Axes>"
      ]
     },
     "metadata": {},
     "output_type": "display_data"
    }
   ],
   "source": [
    "#Define bins for monthly charges\n",
    "bins = [0, 30, 60, 90, 120]\n",
    "\n",
    "#Create labels for the bins\n",
    "labels = ['0-30', '30-60', '60-90', '90-120']\n",
    "\n",
    "#Assign each monthly charge to a bin\n",
    "df['monthly_charges_bin'] = pd.cut(df['monthlycharges'], bins=bins, labels=labels, right=False)\n",
    "\n",
    "#Calculate churn rate based on monthly charges\n",
    "monthly_charges_churn_rate = df.groupby('monthly_charges_bin')['churn'].value_counts(normalize=True)[:, 'Yes'] * 100\n",
    "\n",
    "#Plot churn rate based on monthly charges using a bar plot\n",
    "plt.figure(figsize=(10, 6))\n",
    "bars = monthly_charges_churn_rate.plot(kind='bar', color='skyblue')\n",
    "plt.title('Churn Rate by Monthly Charges')\n",
    "plt.xlabel('Monthly Charges')\n",
    "plt.ylabel('Churn Rate (%)')\n",
    "plt.xticks(rotation=45)\n",
    "\n",
    "# Add labels on the bars\n",
    "for bar in bars.patches:\n",
    "    plt.text(bar.get_x() + bar.get_width() / 2 - 0.1, bar.get_height() + 0.5, f'{bar.get_height():.2f}%', ha='center', color='black')\n",
    "\n",
    "plt.show()"
   ]
  },
  {
   "cell_type": "markdown",
   "metadata": {},
   "source": [
    "##### This illustrates the relationship between the amount customers are charged monthly and the rate at which they stop using the service (churn rate). \n",
    "0-30 Range: Represents the lowest monthly charges and corresponds to the lowest churn rate, suggesting customers are satisfied with the service or find it affordable.\n",
    "\n",
    "30-60 Range: Shows a significant increase in churn rate, indicating a threshold where customers may begin to consider the service too expensive or not worth the cost.\n",
    "\n",
    "60-90 & 90-120 Ranges: Both have the highest and constant churn rates, suggesting that beyond a certain price point, the churn rate stabilizes, possibly due to a segment of customers who are less price-sensitive."
   ]
  },
  {
   "cell_type": "markdown",
   "metadata": {},
   "source": [
    "##### Question Five: What is the churn rate of customers based on their contract type?"
   ]
  },
  {
   "cell_type": "code",
   "execution_count": 50,
   "metadata": {},
   "outputs": [
    {
     "data": {
      "image/png": "[encoded data removed]",
      "text/plain": [
       "<Figure size 1000x600 with 1 Axes>"
      ]
     },
     "metadata": {},
     "output_type": "display_data"
    }
   ],
   "source": [
    "#Calculate churn rate based on contract type\n",
    "contract_churn_rate = df.groupby('contract')['churn'].value_counts(normalize=True)[:, 'Yes'] * 100\n",
    "\n",
    "#Plot churn rate based on contract type using a bar plot\n",
    "plt.figure(figsize=(10, 6))\n",
    "bars = contract_churn_rate.plot(kind='bar', color='skyblue')\n",
    "plt.title('Churn Rate by Contract Type')\n",
    "plt.xlabel('Contract Type')\n",
    "plt.ylabel('Churn Rate (%)')\n",
    "plt.xticks(rotation=45)\n",
    "\n",
    "#Add labels on the bars\n",
    "for bar in bars.patches:\n",
    "    plt.text(bar.get_x() + bar.get_width() / 2 - 0.1, bar.get_height() + 0.5, f'{bar.get_height():.2f}%', ha='center', color='black')\n",
    "\n",
    "plt.show()\n"
   ]
  },
  {
   "cell_type": "markdown",
   "metadata": {},
   "source": [
    "##### This compares the churn rates across different contract durations. \n",
    "Month-to-Month: This category has the highest churn rate, around 40%, indicating that customers with no long-term commitments are more likely to discontinue the service.\n",
    "\n",
    "One Year: Shows a significantly lower churn rate of about 12%, suggesting increased customer retention with longer contract terms.\n",
    "\n",
    "Two Years: Has the lowest churn rate, which implies that the longest commitment contracts result in the best customer retention."
   ]
  },
  {
   "cell_type": "markdown",
   "metadata": {},
   "source": [
    "##### Question Six: What is the churn rate of customers based on their gender?"
   ]
  },
  {
   "cell_type": "code",
   "execution_count": 51,
   "metadata": {},
   "outputs": [
    {
     "data": {
      "image/png": "[encoded data removed]",
      "text/plain": [
       "<Figure size 800x600 with 1 Axes>"
      ]
     },
     "metadata": {},
     "output_type": "display_data"
    }
   ],
   "source": [
    "#Calculate churn rate based on gender\n",
    "gender_churn_rate = df.groupby('gender')['churn'].value_counts(normalize=True)[:, 'Yes'] * 100\n",
    "\n",
    "#Plot churn rate based on gender using a bar plot\n",
    "plt.figure(figsize=(8, 6))\n",
    "bars = gender_churn_rate.plot(kind='bar', color='skyblue')\n",
    "plt.title('Churn Rate by Gender')\n",
    "plt.xlabel('Gender')\n",
    "plt.ylabel('Churn Rate (%)')\n",
    "plt.xticks(rotation=0)\n",
    "\n",
    "#Add labels on the bars\n",
    "for bar in bars.patches:\n",
    "    plt.text(bar.get_x() + bar.get_width() / 2 - 0.1, bar.get_height() + 0.5, f'{bar.get_height():.2f}%', ha='center', color='black')\n",
    "\n",
    "plt.show()"
   ]
  },
  {
   "cell_type": "markdown",
   "metadata": {},
   "source": [
    "##### The churn rates are nearly identical for both genders, suggesting that gender does not play a significant role in the likelihood of customers discontinuing the service."
   ]
  },
  {
   "cell_type": "code",
   "execution_count": 52,
   "metadata": {},
   "outputs": [],
   "source": [
    "#Converting merged dataset to csv\n",
    "df.to_csv('merged_dataset.csv', index=False)"
   ]
  },
  {
   "cell_type": "markdown",
   "metadata": {},
   "source": [
    "#### DATA PREPARATION"
   ]
  },
  {
   "cell_type": "markdown",
   "metadata": {},
   "source": [
    "##### Check if dataset is balanced"
   ]
  },
  {
   "cell_type": "code",
   "execution_count": 53,
   "metadata": {},
   "outputs": [
    {
     "data": {
      "text/html": [
       "<div>\n",
       "<style scoped>\n",
       "    .dataframe tbody tr th:only-of-type {\n",
       "        vertical-align: middle;\n",
       "    }\n",
       "\n",
       "    .dataframe tbody tr th {\n",
       "        vertical-align: top;\n",
       "    }\n",
       "\n",
       "    .dataframe thead th {\n",
       "        text-align: right;\n",
       "    }\n",
       "</style>\n",
       "<table border=\"1\" class=\"dataframe\">\n",
       "  <thead>\n",
       "    <tr style=\"text-align: right;\">\n",
       "      <th></th>\n",
       "      <th>customerid</th>\n",
       "      <th>gender</th>\n",
       "      <th>seniorcitizen</th>\n",
       "      <th>partner</th>\n",
       "      <th>dependents</th>\n",
       "      <th>tenure</th>\n",
       "      <th>phoneservice</th>\n",
       "      <th>multiplelines</th>\n",
       "      <th>internetservice</th>\n",
       "      <th>onlinesecurity</th>\n",
       "      <th>...</th>\n",
       "      <th>streamingtv</th>\n",
       "      <th>streamingmovies</th>\n",
       "      <th>contract</th>\n",
       "      <th>paperlessbilling</th>\n",
       "      <th>paymentmethod</th>\n",
       "      <th>monthlycharges</th>\n",
       "      <th>totalcharges</th>\n",
       "      <th>churn</th>\n",
       "      <th>churn_encoded</th>\n",
       "      <th>monthly_charges_bin</th>\n",
       "    </tr>\n",
       "  </thead>\n",
       "  <tbody>\n",
       "    <tr>\n",
       "      <th>0</th>\n",
       "      <td>7590-VHVEG</td>\n",
       "      <td>Female</td>\n",
       "      <td>0</td>\n",
       "      <td>Yes</td>\n",
       "      <td>No</td>\n",
       "      <td>1</td>\n",
       "      <td>No</td>\n",
       "      <td>None</td>\n",
       "      <td>DSL</td>\n",
       "      <td>No</td>\n",
       "      <td>...</td>\n",
       "      <td>No</td>\n",
       "      <td>No</td>\n",
       "      <td>Month-to-month</td>\n",
       "      <td>Yes</td>\n",
       "      <td>Electronic check</td>\n",
       "      <td>29.850000</td>\n",
       "      <td>29.850000</td>\n",
       "      <td>No</td>\n",
       "      <td>0</td>\n",
       "      <td>0-30</td>\n",
       "    </tr>\n",
       "    <tr>\n",
       "      <th>1</th>\n",
       "      <td>5575-GNVDE</td>\n",
       "      <td>Male</td>\n",
       "      <td>0</td>\n",
       "      <td>No</td>\n",
       "      <td>No</td>\n",
       "      <td>34</td>\n",
       "      <td>Yes</td>\n",
       "      <td>No</td>\n",
       "      <td>DSL</td>\n",
       "      <td>Yes</td>\n",
       "      <td>...</td>\n",
       "      <td>No</td>\n",
       "      <td>No</td>\n",
       "      <td>One year</td>\n",
       "      <td>No</td>\n",
       "      <td>Mailed check</td>\n",
       "      <td>56.950001</td>\n",
       "      <td>1889.500000</td>\n",
       "      <td>No</td>\n",
       "      <td>0</td>\n",
       "      <td>30-60</td>\n",
       "    </tr>\n",
       "    <tr>\n",
       "      <th>2</th>\n",
       "      <td>3668-QPYBK</td>\n",
       "      <td>Male</td>\n",
       "      <td>0</td>\n",
       "      <td>No</td>\n",
       "      <td>No</td>\n",
       "      <td>2</td>\n",
       "      <td>Yes</td>\n",
       "      <td>No</td>\n",
       "      <td>DSL</td>\n",
       "      <td>Yes</td>\n",
       "      <td>...</td>\n",
       "      <td>No</td>\n",
       "      <td>No</td>\n",
       "      <td>Month-to-month</td>\n",
       "      <td>Yes</td>\n",
       "      <td>Mailed check</td>\n",
       "      <td>53.849998</td>\n",
       "      <td>108.150002</td>\n",
       "      <td>Yes</td>\n",
       "      <td>1</td>\n",
       "      <td>30-60</td>\n",
       "    </tr>\n",
       "    <tr>\n",
       "      <th>3</th>\n",
       "      <td>7795-CFOCW</td>\n",
       "      <td>Male</td>\n",
       "      <td>0</td>\n",
       "      <td>No</td>\n",
       "      <td>No</td>\n",
       "      <td>45</td>\n",
       "      <td>No</td>\n",
       "      <td>None</td>\n",
       "      <td>DSL</td>\n",
       "      <td>Yes</td>\n",
       "      <td>...</td>\n",
       "      <td>No</td>\n",
       "      <td>No</td>\n",
       "      <td>One year</td>\n",
       "      <td>No</td>\n",
       "      <td>Bank transfer (automatic)</td>\n",
       "      <td>42.299999</td>\n",
       "      <td>1840.750000</td>\n",
       "      <td>No</td>\n",
       "      <td>0</td>\n",
       "      <td>30-60</td>\n",
       "    </tr>\n",
       "    <tr>\n",
       "      <th>4</th>\n",
       "      <td>9237-HQITU</td>\n",
       "      <td>Female</td>\n",
       "      <td>0</td>\n",
       "      <td>No</td>\n",
       "      <td>No</td>\n",
       "      <td>2</td>\n",
       "      <td>Yes</td>\n",
       "      <td>No</td>\n",
       "      <td>Fiber optic</td>\n",
       "      <td>No</td>\n",
       "      <td>...</td>\n",
       "      <td>No</td>\n",
       "      <td>No</td>\n",
       "      <td>Month-to-month</td>\n",
       "      <td>Yes</td>\n",
       "      <td>Electronic check</td>\n",
       "      <td>70.699997</td>\n",
       "      <td>151.649994</td>\n",
       "      <td>Yes</td>\n",
       "      <td>1</td>\n",
       "      <td>60-90</td>\n",
       "    </tr>\n",
       "  </tbody>\n",
       "</table>\n",
       "<p>5 rows × 23 columns</p>\n",
       "</div>"
      ],
      "text/plain": [
       "   customerid  gender  seniorcitizen partner dependents  tenure phoneservice  \\\n",
       "0  7590-VHVEG  Female              0     Yes         No       1           No   \n",
       "1  5575-GNVDE    Male              0      No         No      34          Yes   \n",
       "2  3668-QPYBK    Male              0      No         No       2          Yes   \n",
       "3  7795-CFOCW    Male              0      No         No      45           No   \n",
       "4  9237-HQITU  Female              0      No         No       2          Yes   \n",
       "\n",
       "  multiplelines internetservice onlinesecurity  ... streamingtv  \\\n",
       "0          None             DSL             No  ...          No   \n",
       "1            No             DSL            Yes  ...          No   \n",
       "2            No             DSL            Yes  ...          No   \n",
       "3          None             DSL            Yes  ...          No   \n",
       "4            No     Fiber optic             No  ...          No   \n",
       "\n",
       "  streamingmovies        contract paperlessbilling              paymentmethod  \\\n",
       "0              No  Month-to-month              Yes           Electronic check   \n",
       "1              No        One year               No               Mailed check   \n",
       "2              No  Month-to-month              Yes               Mailed check   \n",
       "3              No        One year               No  Bank transfer (automatic)   \n",
       "4              No  Month-to-month              Yes           Electronic check   \n",
       "\n",
       "  monthlycharges totalcharges churn  churn_encoded  monthly_charges_bin  \n",
       "0      29.850000    29.850000    No              0                 0-30  \n",
       "1      56.950001  1889.500000    No              0                30-60  \n",
       "2      53.849998   108.150002   Yes              1                30-60  \n",
       "3      42.299999  1840.750000    No              0                30-60  \n",
       "4      70.699997   151.649994   Yes              1                60-90  \n",
       "\n",
       "[5 rows x 23 columns]"
      ]
     },
     "execution_count": 53,
     "metadata": {},
     "output_type": "execute_result"
    }
   ],
   "source": [
    "#Check dataframe\n",
    "df.head()"
   ]
  },
  {
   "cell_type": "code",
   "execution_count": 54,
   "metadata": {},
   "outputs": [],
   "source": [
    "#Drop the 'customerid', 'churn_encoded' and 'monthly_charges_bin' columns\n",
    "df = df.drop(['customerid', 'churn_encoded', 'monthly_charges_bin'], axis=1)"
   ]
  },
  {
   "cell_type": "code",
   "execution_count": 78,
   "metadata": {},
   "outputs": [
    {
     "data": {
      "text/html": [
       "<div>\n",
       "<style scoped>\n",
       "    .dataframe tbody tr th:only-of-type {\n",
       "        vertical-align: middle;\n",
       "    }\n",
       "\n",
       "    .dataframe tbody tr th {\n",
       "        vertical-align: top;\n",
       "    }\n",
       "\n",
       "    .dataframe thead th {\n",
       "        text-align: right;\n",
       "    }\n",
       "</style>\n",
       "<table border=\"1\" class=\"dataframe\">\n",
       "  <thead>\n",
       "    <tr style=\"text-align: right;\">\n",
       "      <th></th>\n",
       "      <th>gender</th>\n",
       "      <th>seniorcitizen</th>\n",
       "      <th>partner</th>\n",
       "      <th>dependents</th>\n",
       "      <th>tenure</th>\n",
       "      <th>phoneservice</th>\n",
       "      <th>multiplelines</th>\n",
       "      <th>internetservice</th>\n",
       "      <th>onlinesecurity</th>\n",
       "      <th>onlinebackup</th>\n",
       "      <th>deviceprotection</th>\n",
       "      <th>techsupport</th>\n",
       "      <th>streamingtv</th>\n",
       "      <th>streamingmovies</th>\n",
       "      <th>contract</th>\n",
       "      <th>paperlessbilling</th>\n",
       "      <th>paymentmethod</th>\n",
       "      <th>monthlycharges</th>\n",
       "      <th>totalcharges</th>\n",
       "      <th>churn</th>\n",
       "    </tr>\n",
       "  </thead>\n",
       "  <tbody>\n",
       "    <tr>\n",
       "      <th>0</th>\n",
       "      <td>Female</td>\n",
       "      <td>0</td>\n",
       "      <td>Yes</td>\n",
       "      <td>No</td>\n",
       "      <td>1</td>\n",
       "      <td>No</td>\n",
       "      <td>None</td>\n",
       "      <td>DSL</td>\n",
       "      <td>No</td>\n",
       "      <td>Yes</td>\n",
       "      <td>No</td>\n",
       "      <td>No</td>\n",
       "      <td>No</td>\n",
       "      <td>No</td>\n",
       "      <td>Month-to-month</td>\n",
       "      <td>Yes</td>\n",
       "      <td>Electronic check</td>\n",
       "      <td>29.850000</td>\n",
       "      <td>29.850000</td>\n",
       "      <td>No</td>\n",
       "    </tr>\n",
       "    <tr>\n",
       "      <th>1</th>\n",
       "      <td>Male</td>\n",
       "      <td>0</td>\n",
       "      <td>No</td>\n",
       "      <td>No</td>\n",
       "      <td>34</td>\n",
       "      <td>Yes</td>\n",
       "      <td>No</td>\n",
       "      <td>DSL</td>\n",
       "      <td>Yes</td>\n",
       "      <td>No</td>\n",
       "      <td>Yes</td>\n",
       "      <td>No</td>\n",
       "      <td>No</td>\n",
       "      <td>No</td>\n",
       "      <td>One year</td>\n",
       "      <td>No</td>\n",
       "      <td>Mailed check</td>\n",
       "      <td>56.950001</td>\n",
       "      <td>1889.500000</td>\n",
       "      <td>No</td>\n",
       "    </tr>\n",
       "    <tr>\n",
       "      <th>2</th>\n",
       "      <td>Male</td>\n",
       "      <td>0</td>\n",
       "      <td>No</td>\n",
       "      <td>No</td>\n",
       "      <td>2</td>\n",
       "      <td>Yes</td>\n",
       "      <td>No</td>\n",
       "      <td>DSL</td>\n",
       "      <td>Yes</td>\n",
       "      <td>Yes</td>\n",
       "      <td>No</td>\n",
       "      <td>No</td>\n",
       "      <td>No</td>\n",
       "      <td>No</td>\n",
       "      <td>Month-to-month</td>\n",
       "      <td>Yes</td>\n",
       "      <td>Mailed check</td>\n",
       "      <td>53.849998</td>\n",
       "      <td>108.150002</td>\n",
       "      <td>Yes</td>\n",
       "    </tr>\n",
       "    <tr>\n",
       "      <th>3</th>\n",
       "      <td>Male</td>\n",
       "      <td>0</td>\n",
       "      <td>No</td>\n",
       "      <td>No</td>\n",
       "      <td>45</td>\n",
       "      <td>No</td>\n",
       "      <td>None</td>\n",
       "      <td>DSL</td>\n",
       "      <td>Yes</td>\n",
       "      <td>No</td>\n",
       "      <td>Yes</td>\n",
       "      <td>Yes</td>\n",
       "      <td>No</td>\n",
       "      <td>No</td>\n",
       "      <td>One year</td>\n",
       "      <td>No</td>\n",
       "      <td>Bank transfer (automatic)</td>\n",
       "      <td>42.299999</td>\n",
       "      <td>1840.750000</td>\n",
       "      <td>No</td>\n",
       "    </tr>\n",
       "    <tr>\n",
       "      <th>4</th>\n",
       "      <td>Female</td>\n",
       "      <td>0</td>\n",
       "      <td>No</td>\n",
       "      <td>No</td>\n",
       "      <td>2</td>\n",
       "      <td>Yes</td>\n",
       "      <td>No</td>\n",
       "      <td>Fiber optic</td>\n",
       "      <td>No</td>\n",
       "      <td>No</td>\n",
       "      <td>No</td>\n",
       "      <td>No</td>\n",
       "      <td>No</td>\n",
       "      <td>No</td>\n",
       "      <td>Month-to-month</td>\n",
       "      <td>Yes</td>\n",
       "      <td>Electronic check</td>\n",
       "      <td>70.699997</td>\n",
       "      <td>151.649994</td>\n",
       "      <td>Yes</td>\n",
       "    </tr>\n",
       "    <tr>\n",
       "      <th>5</th>\n",
       "      <td>Female</td>\n",
       "      <td>0</td>\n",
       "      <td>No</td>\n",
       "      <td>No</td>\n",
       "      <td>8</td>\n",
       "      <td>Yes</td>\n",
       "      <td>Yes</td>\n",
       "      <td>Fiber optic</td>\n",
       "      <td>No</td>\n",
       "      <td>No</td>\n",
       "      <td>Yes</td>\n",
       "      <td>No</td>\n",
       "      <td>Yes</td>\n",
       "      <td>Yes</td>\n",
       "      <td>Month-to-month</td>\n",
       "      <td>Yes</td>\n",
       "      <td>Electronic check</td>\n",
       "      <td>99.650002</td>\n",
       "      <td>820.500000</td>\n",
       "      <td>Yes</td>\n",
       "    </tr>\n",
       "    <tr>\n",
       "      <th>6</th>\n",
       "      <td>Male</td>\n",
       "      <td>0</td>\n",
       "      <td>No</td>\n",
       "      <td>Yes</td>\n",
       "      <td>22</td>\n",
       "      <td>Yes</td>\n",
       "      <td>Yes</td>\n",
       "      <td>Fiber optic</td>\n",
       "      <td>No</td>\n",
       "      <td>Yes</td>\n",
       "      <td>No</td>\n",
       "      <td>No</td>\n",
       "      <td>Yes</td>\n",
       "      <td>No</td>\n",
       "      <td>Month-to-month</td>\n",
       "      <td>Yes</td>\n",
       "      <td>Credit card (automatic)</td>\n",
       "      <td>89.099998</td>\n",
       "      <td>1949.400024</td>\n",
       "      <td>No</td>\n",
       "    </tr>\n",
       "    <tr>\n",
       "      <th>7</th>\n",
       "      <td>Female</td>\n",
       "      <td>0</td>\n",
       "      <td>No</td>\n",
       "      <td>No</td>\n",
       "      <td>10</td>\n",
       "      <td>No</td>\n",
       "      <td>None</td>\n",
       "      <td>DSL</td>\n",
       "      <td>Yes</td>\n",
       "      <td>No</td>\n",
       "      <td>No</td>\n",
       "      <td>No</td>\n",
       "      <td>No</td>\n",
       "      <td>No</td>\n",
       "      <td>Month-to-month</td>\n",
       "      <td>No</td>\n",
       "      <td>Mailed check</td>\n",
       "      <td>29.750000</td>\n",
       "      <td>301.899994</td>\n",
       "      <td>No</td>\n",
       "    </tr>\n",
       "    <tr>\n",
       "      <th>8</th>\n",
       "      <td>Female</td>\n",
       "      <td>0</td>\n",
       "      <td>Yes</td>\n",
       "      <td>No</td>\n",
       "      <td>28</td>\n",
       "      <td>Yes</td>\n",
       "      <td>Yes</td>\n",
       "      <td>Fiber optic</td>\n",
       "      <td>No</td>\n",
       "      <td>No</td>\n",
       "      <td>Yes</td>\n",
       "      <td>Yes</td>\n",
       "      <td>Yes</td>\n",
       "      <td>Yes</td>\n",
       "      <td>Month-to-month</td>\n",
       "      <td>Yes</td>\n",
       "      <td>Electronic check</td>\n",
       "      <td>104.800003</td>\n",
       "      <td>3046.050049</td>\n",
       "      <td>Yes</td>\n",
       "    </tr>\n",
       "    <tr>\n",
       "      <th>9</th>\n",
       "      <td>Male</td>\n",
       "      <td>0</td>\n",
       "      <td>No</td>\n",
       "      <td>Yes</td>\n",
       "      <td>62</td>\n",
       "      <td>Yes</td>\n",
       "      <td>No</td>\n",
       "      <td>DSL</td>\n",
       "      <td>Yes</td>\n",
       "      <td>Yes</td>\n",
       "      <td>No</td>\n",
       "      <td>No</td>\n",
       "      <td>No</td>\n",
       "      <td>No</td>\n",
       "      <td>One year</td>\n",
       "      <td>No</td>\n",
       "      <td>Bank transfer (automatic)</td>\n",
       "      <td>56.150002</td>\n",
       "      <td>3487.949951</td>\n",
       "      <td>No</td>\n",
       "    </tr>\n",
       "    <tr>\n",
       "      <th>10</th>\n",
       "      <td>Male</td>\n",
       "      <td>0</td>\n",
       "      <td>Yes</td>\n",
       "      <td>Yes</td>\n",
       "      <td>13</td>\n",
       "      <td>Yes</td>\n",
       "      <td>No</td>\n",
       "      <td>DSL</td>\n",
       "      <td>Yes</td>\n",
       "      <td>No</td>\n",
       "      <td>No</td>\n",
       "      <td>No</td>\n",
       "      <td>No</td>\n",
       "      <td>No</td>\n",
       "      <td>Month-to-month</td>\n",
       "      <td>Yes</td>\n",
       "      <td>Mailed check</td>\n",
       "      <td>49.950001</td>\n",
       "      <td>587.450012</td>\n",
       "      <td>No</td>\n",
       "    </tr>\n",
       "    <tr>\n",
       "      <th>11</th>\n",
       "      <td>Male</td>\n",
       "      <td>0</td>\n",
       "      <td>No</td>\n",
       "      <td>No</td>\n",
       "      <td>16</td>\n",
       "      <td>Yes</td>\n",
       "      <td>No</td>\n",
       "      <td>No</td>\n",
       "      <td>None</td>\n",
       "      <td>None</td>\n",
       "      <td>None</td>\n",
       "      <td>None</td>\n",
       "      <td>None</td>\n",
       "      <td>None</td>\n",
       "      <td>Two year</td>\n",
       "      <td>No</td>\n",
       "      <td>Credit card (automatic)</td>\n",
       "      <td>18.950001</td>\n",
       "      <td>326.799988</td>\n",
       "      <td>No</td>\n",
       "    </tr>\n",
       "    <tr>\n",
       "      <th>12</th>\n",
       "      <td>Male</td>\n",
       "      <td>0</td>\n",
       "      <td>Yes</td>\n",
       "      <td>No</td>\n",
       "      <td>58</td>\n",
       "      <td>Yes</td>\n",
       "      <td>Yes</td>\n",
       "      <td>Fiber optic</td>\n",
       "      <td>No</td>\n",
       "      <td>No</td>\n",
       "      <td>Yes</td>\n",
       "      <td>No</td>\n",
       "      <td>Yes</td>\n",
       "      <td>Yes</td>\n",
       "      <td>One year</td>\n",
       "      <td>No</td>\n",
       "      <td>Credit card (automatic)</td>\n",
       "      <td>100.349998</td>\n",
       "      <td>5681.100098</td>\n",
       "      <td>No</td>\n",
       "    </tr>\n",
       "    <tr>\n",
       "      <th>13</th>\n",
       "      <td>Male</td>\n",
       "      <td>0</td>\n",
       "      <td>No</td>\n",
       "      <td>No</td>\n",
       "      <td>49</td>\n",
       "      <td>Yes</td>\n",
       "      <td>Yes</td>\n",
       "      <td>Fiber optic</td>\n",
       "      <td>No</td>\n",
       "      <td>Yes</td>\n",
       "      <td>Yes</td>\n",
       "      <td>No</td>\n",
       "      <td>Yes</td>\n",
       "      <td>Yes</td>\n",
       "      <td>Month-to-month</td>\n",
       "      <td>Yes</td>\n",
       "      <td>Bank transfer (automatic)</td>\n",
       "      <td>103.699997</td>\n",
       "      <td>5036.299805</td>\n",
       "      <td>Yes</td>\n",
       "    </tr>\n",
       "    <tr>\n",
       "      <th>14</th>\n",
       "      <td>Male</td>\n",
       "      <td>0</td>\n",
       "      <td>No</td>\n",
       "      <td>No</td>\n",
       "      <td>25</td>\n",
       "      <td>Yes</td>\n",
       "      <td>No</td>\n",
       "      <td>Fiber optic</td>\n",
       "      <td>Yes</td>\n",
       "      <td>No</td>\n",
       "      <td>Yes</td>\n",
       "      <td>Yes</td>\n",
       "      <td>Yes</td>\n",
       "      <td>Yes</td>\n",
       "      <td>Month-to-month</td>\n",
       "      <td>Yes</td>\n",
       "      <td>Electronic check</td>\n",
       "      <td>105.500000</td>\n",
       "      <td>2686.050049</td>\n",
       "      <td>No</td>\n",
       "    </tr>\n",
       "    <tr>\n",
       "      <th>15</th>\n",
       "      <td>Female</td>\n",
       "      <td>0</td>\n",
       "      <td>Yes</td>\n",
       "      <td>Yes</td>\n",
       "      <td>69</td>\n",
       "      <td>Yes</td>\n",
       "      <td>Yes</td>\n",
       "      <td>Fiber optic</td>\n",
       "      <td>Yes</td>\n",
       "      <td>Yes</td>\n",
       "      <td>Yes</td>\n",
       "      <td>Yes</td>\n",
       "      <td>Yes</td>\n",
       "      <td>Yes</td>\n",
       "      <td>Two year</td>\n",
       "      <td>No</td>\n",
       "      <td>Credit card (automatic)</td>\n",
       "      <td>113.250000</td>\n",
       "      <td>7895.149902</td>\n",
       "      <td>No</td>\n",
       "    </tr>\n",
       "    <tr>\n",
       "      <th>16</th>\n",
       "      <td>Female</td>\n",
       "      <td>0</td>\n",
       "      <td>No</td>\n",
       "      <td>No</td>\n",
       "      <td>52</td>\n",
       "      <td>Yes</td>\n",
       "      <td>No</td>\n",
       "      <td>No</td>\n",
       "      <td>None</td>\n",
       "      <td>None</td>\n",
       "      <td>None</td>\n",
       "      <td>None</td>\n",
       "      <td>None</td>\n",
       "      <td>None</td>\n",
       "      <td>One year</td>\n",
       "      <td>No</td>\n",
       "      <td>Mailed check</td>\n",
       "      <td>20.650000</td>\n",
       "      <td>1022.950012</td>\n",
       "      <td>No</td>\n",
       "    </tr>\n",
       "    <tr>\n",
       "      <th>17</th>\n",
       "      <td>Male</td>\n",
       "      <td>0</td>\n",
       "      <td>No</td>\n",
       "      <td>Yes</td>\n",
       "      <td>71</td>\n",
       "      <td>Yes</td>\n",
       "      <td>Yes</td>\n",
       "      <td>Fiber optic</td>\n",
       "      <td>Yes</td>\n",
       "      <td>No</td>\n",
       "      <td>Yes</td>\n",
       "      <td>No</td>\n",
       "      <td>Yes</td>\n",
       "      <td>Yes</td>\n",
       "      <td>Two year</td>\n",
       "      <td>No</td>\n",
       "      <td>Bank transfer (automatic)</td>\n",
       "      <td>106.699997</td>\n",
       "      <td>7382.250000</td>\n",
       "      <td>No</td>\n",
       "    </tr>\n",
       "    <tr>\n",
       "      <th>18</th>\n",
       "      <td>Female</td>\n",
       "      <td>0</td>\n",
       "      <td>Yes</td>\n",
       "      <td>Yes</td>\n",
       "      <td>10</td>\n",
       "      <td>Yes</td>\n",
       "      <td>No</td>\n",
       "      <td>DSL</td>\n",
       "      <td>No</td>\n",
       "      <td>No</td>\n",
       "      <td>Yes</td>\n",
       "      <td>Yes</td>\n",
       "      <td>No</td>\n",
       "      <td>No</td>\n",
       "      <td>Month-to-month</td>\n",
       "      <td>No</td>\n",
       "      <td>Credit card (automatic)</td>\n",
       "      <td>55.200001</td>\n",
       "      <td>528.349976</td>\n",
       "      <td>Yes</td>\n",
       "    </tr>\n",
       "    <tr>\n",
       "      <th>19</th>\n",
       "      <td>Female</td>\n",
       "      <td>0</td>\n",
       "      <td>No</td>\n",
       "      <td>No</td>\n",
       "      <td>21</td>\n",
       "      <td>Yes</td>\n",
       "      <td>No</td>\n",
       "      <td>Fiber optic</td>\n",
       "      <td>No</td>\n",
       "      <td>Yes</td>\n",
       "      <td>Yes</td>\n",
       "      <td>No</td>\n",
       "      <td>No</td>\n",
       "      <td>Yes</td>\n",
       "      <td>Month-to-month</td>\n",
       "      <td>Yes</td>\n",
       "      <td>Electronic check</td>\n",
       "      <td>90.050003</td>\n",
       "      <td>1862.900024</td>\n",
       "      <td>No</td>\n",
       "    </tr>\n",
       "  </tbody>\n",
       "</table>\n",
       "</div>"
      ],
      "text/plain": [
       "    gender seniorcitizen partner dependents  tenure phoneservice  \\\n",
       "0   Female             0     Yes         No       1           No   \n",
       "1     Male             0      No         No      34          Yes   \n",
       "2     Male             0      No         No       2          Yes   \n",
       "3     Male             0      No         No      45           No   \n",
       "4   Female             0      No         No       2          Yes   \n",
       "5   Female             0      No         No       8          Yes   \n",
       "6     Male             0      No        Yes      22          Yes   \n",
       "7   Female             0      No         No      10           No   \n",
       "8   Female             0     Yes         No      28          Yes   \n",
       "9     Male             0      No        Yes      62          Yes   \n",
       "10    Male             0     Yes        Yes      13          Yes   \n",
       "11    Male             0      No         No      16          Yes   \n",
       "12    Male             0     Yes         No      58          Yes   \n",
       "13    Male             0      No         No      49          Yes   \n",
       "14    Male             0      No         No      25          Yes   \n",
       "15  Female             0     Yes        Yes      69          Yes   \n",
       "16  Female             0      No         No      52          Yes   \n",
       "17    Male             0      No        Yes      71          Yes   \n",
       "18  Female             0     Yes        Yes      10          Yes   \n",
       "19  Female             0      No         No      21          Yes   \n",
       "\n",
       "   multiplelines internetservice onlinesecurity onlinebackup deviceprotection  \\\n",
       "0           None             DSL             No          Yes               No   \n",
       "1             No             DSL            Yes           No              Yes   \n",
       "2             No             DSL            Yes          Yes               No   \n",
       "3           None             DSL            Yes           No              Yes   \n",
       "4             No     Fiber optic             No           No               No   \n",
       "5            Yes     Fiber optic             No           No              Yes   \n",
       "6            Yes     Fiber optic             No          Yes               No   \n",
       "7           None             DSL            Yes           No               No   \n",
       "8            Yes     Fiber optic             No           No              Yes   \n",
       "9             No             DSL            Yes          Yes               No   \n",
       "10            No             DSL            Yes           No               No   \n",
       "11            No              No           None         None             None   \n",
       "12           Yes     Fiber optic             No           No              Yes   \n",
       "13           Yes     Fiber optic             No          Yes              Yes   \n",
       "14            No     Fiber optic            Yes           No              Yes   \n",
       "15           Yes     Fiber optic            Yes          Yes              Yes   \n",
       "16            No              No           None         None             None   \n",
       "17           Yes     Fiber optic            Yes           No              Yes   \n",
       "18            No             DSL             No           No              Yes   \n",
       "19            No     Fiber optic             No          Yes              Yes   \n",
       "\n",
       "   techsupport streamingtv streamingmovies        contract paperlessbilling  \\\n",
       "0           No          No              No  Month-to-month              Yes   \n",
       "1           No          No              No        One year               No   \n",
       "2           No          No              No  Month-to-month              Yes   \n",
       "3          Yes          No              No        One year               No   \n",
       "4           No          No              No  Month-to-month              Yes   \n",
       "5           No         Yes             Yes  Month-to-month              Yes   \n",
       "6           No         Yes              No  Month-to-month              Yes   \n",
       "7           No          No              No  Month-to-month               No   \n",
       "8          Yes         Yes             Yes  Month-to-month              Yes   \n",
       "9           No          No              No        One year               No   \n",
       "10          No          No              No  Month-to-month              Yes   \n",
       "11        None        None            None        Two year               No   \n",
       "12          No         Yes             Yes        One year               No   \n",
       "13          No         Yes             Yes  Month-to-month              Yes   \n",
       "14         Yes         Yes             Yes  Month-to-month              Yes   \n",
       "15         Yes         Yes             Yes        Two year               No   \n",
       "16        None        None            None        One year               No   \n",
       "17          No         Yes             Yes        Two year               No   \n",
       "18         Yes          No              No  Month-to-month               No   \n",
       "19          No          No             Yes  Month-to-month              Yes   \n",
       "\n",
       "                paymentmethod  monthlycharges  totalcharges churn  \n",
       "0            Electronic check       29.850000     29.850000    No  \n",
       "1                Mailed check       56.950001   1889.500000    No  \n",
       "2                Mailed check       53.849998    108.150002   Yes  \n",
       "3   Bank transfer (automatic)       42.299999   1840.750000    No  \n",
       "4            Electronic check       70.699997    151.649994   Yes  \n",
       "5            Electronic check       99.650002    820.500000   Yes  \n",
       "6     Credit card (automatic)       89.099998   1949.400024    No  \n",
       "7                Mailed check       29.750000    301.899994    No  \n",
       "8            Electronic check      104.800003   3046.050049   Yes  \n",
       "9   Bank transfer (automatic)       56.150002   3487.949951    No  \n",
       "10               Mailed check       49.950001    587.450012    No  \n",
       "11    Credit card (automatic)       18.950001    326.799988    No  \n",
       "12    Credit card (automatic)      100.349998   5681.100098    No  \n",
       "13  Bank transfer (automatic)      103.699997   5036.299805   Yes  \n",
       "14           Electronic check      105.500000   2686.050049    No  \n",
       "15    Credit card (automatic)      113.250000   7895.149902    No  \n",
       "16               Mailed check       20.650000   1022.950012    No  \n",
       "17  Bank transfer (automatic)      106.699997   7382.250000    No  \n",
       "18    Credit card (automatic)       55.200001    528.349976   Yes  \n",
       "19           Electronic check       90.050003   1862.900024    No  "
      ]
     },
     "execution_count": 78,
     "metadata": {},
     "output_type": "execute_result"
    }
   ],
   "source": [
    "#Check dataframe\n",
    "df.head(20)"
   ]
  },
  {
   "cell_type": "code",
   "execution_count": 56,
   "metadata": {},
   "outputs": [
    {
     "name": "stdout",
     "output_type": "stream",
     "text": [
      "There is 1 missing value in the churn column.\n"
     ]
    }
   ],
   "source": [
    "#Check for missing values in the churn column\n",
    "missing_values = df['churn'].isnull().sum()\n",
    "\n",
    "if missing_values == 0:\n",
    "    print(\"There are no missing values in the churn column.\")\n",
    "else:\n",
    "    print(f\"There is {missing_values} missing value in the churn column.\")"
   ]
  },
  {
   "cell_type": "code",
   "execution_count": 57,
   "metadata": {},
   "outputs": [],
   "source": [
    "#Drop rows with missing values in the churn column\n",
    "df.dropna(subset=['churn'], inplace=True)"
   ]
  },
  {
   "cell_type": "code",
   "execution_count": 58,
   "metadata": {},
   "outputs": [
    {
     "name": "stdout",
     "output_type": "stream",
     "text": [
      "There are no missing values in the churn column.\n"
     ]
    }
   ],
   "source": [
    "#Check to confirm the missing values in the churn column\n",
    "missing_values = df['churn'].isnull().sum()\n",
    "\n",
    "if missing_values == 0:\n",
    "    print(\"There are no missing values in the churn column.\")\n",
    "else:\n",
    "    print(f\"There are {missing_values} missing values in the churn column.\")"
   ]
  },
  {
   "cell_type": "code",
   "execution_count": 59,
   "metadata": {},
   "outputs": [
    {
     "name": "stdout",
     "output_type": "stream",
     "text": [
      "<class 'pandas.core.frame.DataFrame'>\n",
      "Index: 5042 entries, 0 to 2042\n",
      "Data columns (total 20 columns):\n",
      " #   Column            Non-Null Count  Dtype  \n",
      "---  ------            --------------  -----  \n",
      " 0   gender            5042 non-null   object \n",
      " 1   seniorcitizen     5042 non-null   int64  \n",
      " 2   partner           5042 non-null   object \n",
      " 3   dependents        5042 non-null   object \n",
      " 4   tenure            5042 non-null   int64  \n",
      " 5   phoneservice      5042 non-null   object \n",
      " 6   multiplelines     4773 non-null   object \n",
      " 7   internetservice   5042 non-null   object \n",
      " 8   onlinesecurity    4391 non-null   object \n",
      " 9   onlinebackup      4391 non-null   object \n",
      " 10  deviceprotection  4391 non-null   object \n",
      " 11  techsupport       4391 non-null   object \n",
      " 12  streamingtv       4391 non-null   object \n",
      " 13  streamingmovies   4391 non-null   object \n",
      " 14  contract          5042 non-null   object \n",
      " 15  paperlessbilling  5042 non-null   object \n",
      " 16  paymentmethod     5042 non-null   object \n",
      " 17  monthlycharges    5042 non-null   float64\n",
      " 18  totalcharges      5034 non-null   float64\n",
      " 19  churn             5042 non-null   object \n",
      "dtypes: float64(2), int64(2), object(16)\n",
      "memory usage: 827.2+ KB\n"
     ]
    }
   ],
   "source": [
    "df.info()"
   ]
  },
  {
   "cell_type": "code",
   "execution_count": 60,
   "metadata": {},
   "outputs": [],
   "source": [
    "#Change the data type of the seniorcitizen column to object\n",
    "df['seniorcitizen'] = df['seniorcitizen'].astype(str)"
   ]
  },
  {
   "cell_type": "markdown",
   "metadata": {},
   "source": [
    "##### To check if the dataset is balanced, we set a threshold of 5%. If the absolute difference between the counts of the two classes is less than the threshold, then the dataset is considered balanced; otherwise, it's considered imbalanced."
   ]
  },
  {
   "cell_type": "code",
   "execution_count": 61,
   "metadata": {},
   "outputs": [
    {
     "name": "stdout",
     "output_type": "stream",
     "text": [
      "The dataset is imbalanced.\n"
     ]
    }
   ],
   "source": [
    "#The target variable is 'churn' and it binary are (Yes/No)\n",
    "#Count the occurrences of each class\n",
    "class_counts = df['churn'].value_counts()\n",
    "\n",
    "#Set the threshold for imbalance(5% of the total number of rows)\n",
    "threshold = len(df) * 0.05 \n",
    "\n",
    "#Check if the dataset is balanced\n",
    "is_balanced = abs(class_counts[0] - class_counts[1]) < threshold  \n",
    "\n",
    "if is_balanced:\n",
    "    print(\"The dataset is balanced.\")\n",
    "else:\n",
    "    print(\"The dataset is imbalanced.\")"
   ]
  },
  {
   "cell_type": "code",
   "execution_count": 62,
   "metadata": {},
   "outputs": [
    {
     "data": {
      "image/png": "[encoded data removed]",
      "text/plain": [
       "<Figure size 600x400 with 1 Axes>"
      ]
     },
     "metadata": {},
     "output_type": "display_data"
    }
   ],
   "source": [
    "#Count the occurrences of each class\n",
    "class_counts = df['churn'].value_counts()\n",
    "\n",
    "#Plot the distribution of the target variable\n",
    "plt.figure(figsize=(6, 4))\n",
    "bars = class_counts.plot(kind='bar', color=['skyblue', 'orange'])\n",
    "plt.title('Distribution of Churn')\n",
    "plt.xlabel('Churn')\n",
    "plt.ylabel('Count')\n",
    "plt.xticks(rotation=0)\n",
    "\n",
    "#Annotate the bars with churn counts\n",
    "for i, count in enumerate(class_counts):\n",
    "    plt.text(i, count + 10, str(count), ha='center', va='bottom')\n",
    "\n",
    "plt.show()"
   ]
  },
  {
   "cell_type": "markdown",
   "metadata": {},
   "source": [
    "###### The visual also confirms the dataset is not balanced since it has more 'No' values than 'Yes' values."
   ]
  },
  {
   "cell_type": "markdown",
   "metadata": {},
   "source": [
    "##### TRAINING THE IMBALANCED DATASET"
   ]
  },
  {
   "cell_type": "markdown",
   "metadata": {},
   "source": [
    "##### Split the Dataset into Training and Evaluation Set"
   ]
  },
  {
   "cell_type": "markdown",
   "metadata": {},
   "source": [
    "##### In splitting the data, it is done such that;\n",
    "X contains all the features except the target variable (churn).\n",
    "\n",
    "y contains only the target variable (churn).\n",
    "\n",
    "We use train_test_split to split the data into training and evaluation sets and set test_size to 0.3 which specifies that 30% of the data should be used for evaluation, while the rest is used for training. \n",
    "\n",
    "X_train and y_train contain the training features and target variable respectively.X_eval and y_eval contain the evaluation features and target variable respectively.\n"
   ]
  },
  {
   "cell_type": "code",
   "execution_count": 63,
   "metadata": {},
   "outputs": [],
   "source": [
    "#Define features (X) and target variable (y)\n",
    "X = df.drop('churn', axis=1) \n",
    "y = df['churn']  \n",
    "\n",
    "#Split the dataset into training and evaluation sets\n",
    "X_train, X_eval, y_train, y_eval = train_test_split(X, y, test_size=0.3, stratify=y, random_state=42)"
   ]
  },
  {
   "cell_type": "markdown",
   "metadata": {},
   "source": [
    "##### Encode the y train and evaluation labels"
   ]
  },
  {
   "cell_type": "code",
   "execution_count": 64,
   "metadata": {},
   "outputs": [],
   "source": [
    "#Initialize LabelEncoder\n",
    "label_encoder = LabelEncoder()\n",
    "\n",
    "#Encode the target variable 'churn' for training set\n",
    "y_train_encoded = label_encoder.fit_transform(y_train)\n",
    "\n",
    "#Encode the target variable 'churn' for evaluation set\n",
    "y_eval_encoded = label_encoder.transform(y_eval)"
   ]
  },
  {
   "cell_type": "markdown",
   "metadata": {},
   "source": [
    "##### Prepare Pipelines"
   ]
  },
  {
   "cell_type": "code",
   "execution_count": 65,
   "metadata": {},
   "outputs": [
    {
     "data": {
      "text/plain": [
       "Index(['gender', 'seniorcitizen', 'partner', 'dependents', 'phoneservice',\n",
       "       'multiplelines', 'internetservice', 'onlinesecurity', 'onlinebackup',\n",
       "       'deviceprotection', 'techsupport', 'streamingtv', 'streamingmovies',\n",
       "       'contract', 'paperlessbilling', 'paymentmethod'],\n",
       "      dtype='object')"
      ]
     },
     "execution_count": 65,
     "metadata": {},
     "output_type": "execute_result"
    }
   ],
   "source": [
    "#Identify the categorical columns\n",
    "X.select_dtypes('object').columns"
   ]
  },
  {
   "cell_type": "code",
   "execution_count": 66,
   "metadata": {},
   "outputs": [
    {
     "data": {
      "text/plain": [
       "Index(['tenure', 'monthlycharges', 'totalcharges'], dtype='object')"
      ]
     },
     "execution_count": 66,
     "metadata": {},
     "output_type": "execute_result"
    }
   ],
   "source": [
    "#Identify the numerical columns\n",
    "X.select_dtypes('number').columns"
   ]
  },
  {
   "cell_type": "code",
   "execution_count": 67,
   "metadata": {},
   "outputs": [],
   "source": [
    "#Define numerical and categorical features\n",
    "numerical_features = ['tenure', 'monthlycharges', 'totalcharges']\n",
    "categorical_features = ['gender', 'seniorcitizen', 'partner', 'dependents', 'phoneservice',\n",
    "                        'multiplelines', 'internetservice', 'onlinesecurity', 'onlinebackup',\n",
    "                        'deviceprotection', 'techsupport', 'streamingtv', 'streamingmovies',\n",
    "                        'contract', 'paperlessbilling', 'paymentmethod']\n",
    "\n",
    "#Create preprocessing steps for numerical and categorical features\n",
    "numerical_transformer = Pipeline(steps=[\n",
    "    ('num_imputer', SimpleImputer(strategy='median')),  #Fill missing values with the median\n",
    "    ('scaler', StandardScaler())  #Scale the numerical features\n",
    "])\n",
    "\n",
    "categorical_transformer = Pipeline(steps=[\n",
    "    ('cat_imputer', SimpleImputer(strategy='most_frequent')),\n",
    "    ('onehot', OneHotEncoder(handle_unknown='ignore'))  #One-hot encode categorical features\n",
    "])\n",
    "\n",
    "#Combine preprocessing steps for numerical and categorical features\n",
    "preprocessor = ColumnTransformer(\n",
    "    transformers=[ \n",
    "        ('num', numerical_transformer, numerical_features),\n",
    "        ('cat', categorical_transformer, categorical_features)\n",
    "    ])"
   ]
  },
  {
   "cell_type": "markdown",
   "metadata": {},
   "source": [
    "#### MODELLING AND EVALUATION"
   ]
  },
  {
   "cell_type": "code",
   "execution_count": null,
   "metadata": {},
   "outputs": [],
   "source": [
    "#Define the models\n",
    "models = [\n",
    "    ('K-Nearest_Neighbors', KNeighborsClassifier(n_neighbors=5)),  \n",
    "    ('Logistic_Regression', LogisticRegression(random_state=42)),  \n",
    "    ('Support_Vector_Machine', SVC(random_state=42)),  \n",
    "    ('Decision_Tree', DecisionTreeClassifier(random_state=42)),  \n",
    "    ('Random_Forest', RandomForestClassifier(random_state=42)),  \n",
    "    ('Gradient_Boosting', GradientBoostingClassifier(random_state=42)),  \n",
    "]\n",
    "\n",
    "#Creating dictionary for the models\n",
    "all_pipelines = {}\n",
    "\n",
    "#Create a DataFrame for the metrics\n",
    "metrics_output = pd.DataFrame(columns=['model_name', 'accuracy', 'precision', 'recall', 'f1_score'])\n",
    "\n",
    "#Train and evaluate each model\n",
    "for model_name, classifier in models:\n",
    "    #Create a pipeline for the model\n",
    "    pipeline = Pipeline(steps=[('preprocessor', preprocessor),\n",
    "                               ('classifier', classifier)])  \n",
    "    \n",
    "    #Train the model\n",
    "    pipeline.fit(X_train, y_train_encoded)\n",
    "\n",
    "    #Add all pipeline to the all_pipeline dictionary\n",
    "    all_pipelines[model_name] = pipeline\n",
    "    \n",
    "    #Make predictions on the test set\n",
    "    y_pred = pipeline.predict(X_eval)\n",
    "\n",
    "    #Generate classification report for each model\n",
    "    metrics = classification_report(y_eval_encoded, y_pred, output_dict=True)\n",
    "    \n",
    "    #Evaluate the model\n",
    "    accuracy = metrics['accuracy']\n",
    "    precision = metrics['weighted avg']['precision']\n",
    "    recall = metrics['weighted avg']['recall']\n",
    "    f1_score= metrics['weighted avg']['f1-score']\n",
    "\n",
    "    #Add metrics to metrics_output\n",
    "    metrics_output.loc[len(metrics_output)] = [model_name, accuracy, precision, recall, f1_score]"
   ]
  },
  {
   "cell_type": "code",
   "execution_count": 69,
   "metadata": {},
   "outputs": [
    {
     "data": {
      "text/html": [
       "<div>\n",
       "<style scoped>\n",
       "    .dataframe tbody tr th:only-of-type {\n",
       "        vertical-align: middle;\n",
       "    }\n",
       "\n",
       "    .dataframe tbody tr th {\n",
       "        vertical-align: top;\n",
       "    }\n",
       "\n",
       "    .dataframe thead th {\n",
       "        text-align: right;\n",
       "    }\n",
       "</style>\n",
       "<table border=\"1\" class=\"dataframe\">\n",
       "  <thead>\n",
       "    <tr style=\"text-align: right;\">\n",
       "      <th></th>\n",
       "      <th>model_name</th>\n",
       "      <th>accuracy</th>\n",
       "      <th>precision</th>\n",
       "      <th>recall</th>\n",
       "      <th>f1_score</th>\n",
       "    </tr>\n",
       "  </thead>\n",
       "  <tbody>\n",
       "    <tr>\n",
       "      <th>2</th>\n",
       "      <td>Support_Vector_Machine</td>\n",
       "      <td>0.791143</td>\n",
       "      <td>0.780884</td>\n",
       "      <td>0.791143</td>\n",
       "      <td>0.783662</td>\n",
       "    </tr>\n",
       "    <tr>\n",
       "      <th>5</th>\n",
       "      <td>Gradient_Boosting</td>\n",
       "      <td>0.788500</td>\n",
       "      <td>0.780544</td>\n",
       "      <td>0.788500</td>\n",
       "      <td>0.783372</td>\n",
       "    </tr>\n",
       "    <tr>\n",
       "      <th>1</th>\n",
       "      <td>Logistic_Regression</td>\n",
       "      <td>0.781229</td>\n",
       "      <td>0.775566</td>\n",
       "      <td>0.781229</td>\n",
       "      <td>0.777933</td>\n",
       "    </tr>\n",
       "    <tr>\n",
       "      <th>4</th>\n",
       "      <td>Random_Forest</td>\n",
       "      <td>0.783212</td>\n",
       "      <td>0.773208</td>\n",
       "      <td>0.783212</td>\n",
       "      <td>0.776386</td>\n",
       "    </tr>\n",
       "    <tr>\n",
       "      <th>0</th>\n",
       "      <td>K-Nearest_Neighbors</td>\n",
       "      <td>0.768672</td>\n",
       "      <td>0.766503</td>\n",
       "      <td>0.768672</td>\n",
       "      <td>0.767535</td>\n",
       "    </tr>\n",
       "    <tr>\n",
       "      <th>3</th>\n",
       "      <td>Decision_Tree</td>\n",
       "      <td>0.721745</td>\n",
       "      <td>0.731100</td>\n",
       "      <td>0.721745</td>\n",
       "      <td>0.725898</td>\n",
       "    </tr>\n",
       "  </tbody>\n",
       "</table>\n",
       "</div>"
      ],
      "text/plain": [
       "               model_name  accuracy  precision    recall  f1_score\n",
       "2  Support_Vector_Machine  0.791143   0.780884  0.791143  0.783662\n",
       "5       Gradient_Boosting  0.788500   0.780544  0.788500  0.783372\n",
       "1     Logistic_Regression  0.781229   0.775566  0.781229  0.777933\n",
       "4           Random_Forest  0.783212   0.773208  0.783212  0.776386\n",
       "0     K-Nearest_Neighbors  0.768672   0.766503  0.768672  0.767535\n",
       "3           Decision_Tree  0.721745   0.731100  0.721745  0.725898"
      ]
     },
     "execution_count": 69,
     "metadata": {},
     "output_type": "execute_result"
    }
   ],
   "source": [
    "#Display the metrics_output\n",
    "metrics_output.sort_values(ascending=False, by='f1_score')"
   ]
  },
  {
   "cell_type": "markdown",
   "metadata": {},
   "source": [
    "* Support Vector Machine (SVM): It has the highest F1 score among all models, indicating a good balance between precision and recall. This means it's effective at both correctly identifying positive cases (precision) and capturing most of the positive cases in the dataset (recall).\n",
    "\n",
    "* Gradient Boosting: It also has a high F1 score, very close to SVM, indicating a similar balance between precision and recall. This suggests it's also effective at correctly classifying positive cases while capturing most of them.\n",
    "\n",
    "* Logistic Regression and Random Forest: They have slightly lower F1 scores compared to SVM and Gradient Boosting, but they still maintain a reasonable balance between precision and recall. They might not be as good as SVM and Gradient Boosting in capturing all positive cases, but they provide decent overall performance.\n",
    "\n",
    "* K-Nearest Neighbors (KNN): It has a lower F1 score compared to other models, indicating a weaker balance between precision and recall. This suggests it may struggle more with correctly identifying positive cases or capturing all of them.\n",
    "\n",
    "* Decision Tree: It has the lowest F1 score among all models, indicating the weakest balance between precision and recall. This suggests it might have trouble both correctly classifying positive cases and capturing all of them.\n",
    "\n",
    "In summary, based on F1 score, SVM and Gradient Boosting are the top-performing models, followed by Logistic Regression and Random Forest, while KNN and Decision Tree lag behind in performance."
   ]
  },
  {
   "cell_type": "markdown",
   "metadata": {},
   "source": [
    "##### TRAINING THE BALANCED DATASET "
   ]
  },
  {
   "cell_type": "code",
   "execution_count": 93,
   "metadata": {},
   "outputs": [],
   "source": [
    "# Creating dictionary for the models\n",
    "all_balanced_pipelines = {}\n",
    "\n",
    "# Create a DataFrame for the metrics\n",
    "balanced_metrics_output = pd.DataFrame(columns=['model_name', 'accuracy', 'precision', 'recall', 'f1_score'])\n",
    "\n",
    "# Train and evaluate each model\n",
    "for model_name, classifier in models:\n",
    "    # Create a pipeline for the model\n",
    "    balanced_pipeline = imbPipeline(steps=[('preprocessor', preprocessor),\n",
    "                                           ('smote-sampler', SMOTE(random_state=42)), \n",
    "                                           ('classifier', classifier)])  \n",
    "    \n",
    "    # Train the model\n",
    "    balanced_pipeline.fit(X_train, y_train_encoded)\n",
    "    \n",
    "    # Add all pipeline to the all_pipeline dictionary\n",
    "    all_balanced_pipelines[model_name] = balanced_pipeline\n",
    "    \n",
    "    # Make predictions on the test set\n",
    "    y_pred = balanced_pipeline.predict(X_eval)\n",
    "\n",
    "    # Generate classification report for each model\n",
    "    balanced_metrics = classification_report(y_eval_encoded, y_pred, output_dict=True)\n",
    "    \n",
    "    # Evaluate the model\n",
    "    accuracy = balanced_metrics['accuracy']\n",
    "    precision = balanced_metrics['weighted avg']['precision']\n",
    "    recall = balanced_metrics['weighted avg']['recall']\n",
    "    f1_score = balanced_metrics['weighted avg']['f1-score']\n",
    "\n",
    "    # Add metrics to metrics_output\n",
    "    balanced_metrics_output.loc[len(balanced_metrics_output)] = [model_name, accuracy, precision, recall, f1_score]\n"
   ]
  },
  {
   "cell_type": "code",
   "execution_count": 94,
   "metadata": {},
   "outputs": [
    {
     "data": {
      "text/html": [
       "<div>\n",
       "<style scoped>\n",
       "    .dataframe tbody tr th:only-of-type {\n",
       "        vertical-align: middle;\n",
       "    }\n",
       "\n",
       "    .dataframe tbody tr th {\n",
       "        vertical-align: top;\n",
       "    }\n",
       "\n",
       "    .dataframe thead th {\n",
       "        text-align: right;\n",
       "    }\n",
       "</style>\n",
       "<table border=\"1\" class=\"dataframe\">\n",
       "  <thead>\n",
       "    <tr style=\"text-align: right;\">\n",
       "      <th></th>\n",
       "      <th>model_name</th>\n",
       "      <th>accuracy</th>\n",
       "      <th>precision</th>\n",
       "      <th>recall</th>\n",
       "      <th>f1_score</th>\n",
       "    </tr>\n",
       "  </thead>\n",
       "  <tbody>\n",
       "    <tr>\n",
       "      <th>5</th>\n",
       "      <td>Gradient_Boosting</td>\n",
       "      <td>0.766689</td>\n",
       "      <td>0.779152</td>\n",
       "      <td>0.766689</td>\n",
       "      <td>0.771644</td>\n",
       "    </tr>\n",
       "    <tr>\n",
       "      <th>4</th>\n",
       "      <td>Random_Forest</td>\n",
       "      <td>0.770654</td>\n",
       "      <td>0.767638</td>\n",
       "      <td>0.770654</td>\n",
       "      <td>0.769041</td>\n",
       "    </tr>\n",
       "    <tr>\n",
       "      <th>2</th>\n",
       "      <td>Support_Vector_Machine</td>\n",
       "      <td>0.758096</td>\n",
       "      <td>0.791162</td>\n",
       "      <td>0.758096</td>\n",
       "      <td>0.768041</td>\n",
       "    </tr>\n",
       "    <tr>\n",
       "      <th>1</th>\n",
       "      <td>Logistic_Regression</td>\n",
       "      <td>0.737607</td>\n",
       "      <td>0.797736</td>\n",
       "      <td>0.737607</td>\n",
       "      <td>0.751636</td>\n",
       "    </tr>\n",
       "    <tr>\n",
       "      <th>3</th>\n",
       "      <td>Decision_Tree</td>\n",
       "      <td>0.711831</td>\n",
       "      <td>0.729559</td>\n",
       "      <td>0.711831</td>\n",
       "      <td>0.719043</td>\n",
       "    </tr>\n",
       "    <tr>\n",
       "      <th>0</th>\n",
       "      <td>K-Nearest_Neighbors</td>\n",
       "      <td>0.682750</td>\n",
       "      <td>0.760931</td>\n",
       "      <td>0.682750</td>\n",
       "      <td>0.700819</td>\n",
       "    </tr>\n",
       "  </tbody>\n",
       "</table>\n",
       "</div>"
      ],
      "text/plain": [
       "               model_name  accuracy  precision    recall  f1_score\n",
       "5       Gradient_Boosting  0.766689   0.779152  0.766689  0.771644\n",
       "4           Random_Forest  0.770654   0.767638  0.770654  0.769041\n",
       "2  Support_Vector_Machine  0.758096   0.791162  0.758096  0.768041\n",
       "1     Logistic_Regression  0.737607   0.797736  0.737607  0.751636\n",
       "3           Decision_Tree  0.711831   0.729559  0.711831  0.719043\n",
       "0     K-Nearest_Neighbors  0.682750   0.760931  0.682750  0.700819"
      ]
     },
     "execution_count": 94,
     "metadata": {},
     "output_type": "execute_result"
    }
   ],
   "source": [
    "#Display the metrics_output\n",
    "balanced_metrics_output.sort_values(ascending=False, by='f1_score')"
   ]
  },
  {
   "cell_type": "markdown",
   "metadata": {},
   "source": [
    "##### This is the reults of the performance of the models after balancing the dataset.\n",
    "* Random Forest achieved the highest accuracy and F1 score among the models, indicating that it performed well overall in terms of correctly classifying instances and achieving a balance between precision and recall. It also had relatively high precision and recall.\n",
    "\n",
    "* Gradient Boosting had slightly lower accuracy and F1 score compared to Random Forest but still performed well overall. It had similar precision and recall to Random Forest.\n",
    "\n",
    "* Support Vector Machine (SVM) had the highest precision among the models, suggesting that it had the fewest false positive predictions. However, its accuracy and F1 score were slightly lower than those of Random Forest and Gradient Boosting.\n",
    "\n",
    "* Logistic Regression had moderate performance, with accuracy, precision, recall, and F1 score falling in the mid-range among the models.\n",
    "\n",
    "* Decision Tree showed lower performance compared to Random Forest and Gradient Boosting, with lower accuracy, precision, recall, and F1 score.\n",
    "\n",
    "* K-Nearest Neighbors (KNN) had the lowest performance overall, with the lowest accuracy, precision, recall, and F1 score among the models."
   ]
  },
  {
   "cell_type": "markdown",
   "metadata": {},
   "source": [
    "##### Applying feature selection to improve performance of the models"
   ]
  },
  {
   "cell_type": "code",
   "execution_count": 95,
   "metadata": {},
   "outputs": [],
   "source": [
    "# Creating dictionary for the models\n",
    "all_bf_pipelines = {}\n",
    "\n",
    "# Create a DataFrame for the metrics\n",
    "bf_metrics_output = pd.DataFrame(columns=['model_name', 'accuracy', 'precision', 'recall', 'f1_score'])\n",
    "\n",
    "# Train and evaluate each model\n",
    "for model_name, classifier in models:\n",
    "    # Create a pipeline for the model\n",
    "    bf_pipeline = imbPipeline(steps=[('preprocessor', preprocessor),\n",
    "                                           ('smote-sampler', SMOTE(random_state=42)), \n",
    "                                           ('feature_selection', SelectKBest(mutual_info_classif, k='all')),\n",
    "                                           ('classifier', classifier)])\n",
    "    \n",
    "    # Train the model\n",
    "    bf_pipeline.fit(X_train, y_train_encoded)\n",
    "    \n",
    "    # Add all pipeline to the all_pipeline dictionary\n",
    "    all_bf_pipelines[model_name] = bf_pipeline\n",
    "    \n",
    "    # Make predictions on the test set\n",
    "    y_pred = bf_pipeline.predict(X_eval)\n",
    "\n",
    "    # Generate classification report for each model\n",
    "    bf_metrics = classification_report(y_eval_encoded, y_pred, output_dict=True)\n",
    "    \n",
    "    # Evaluate the model\n",
    "    accuracy = bf_metrics['accuracy']\n",
    "    precision = bf_metrics['weighted avg']['precision']\n",
    "    recall = bf_metrics['weighted avg']['recall']\n",
    "    f1_score = bf_metrics['weighted avg']['f1-score']\n",
    "\n",
    "    # Add metrics to metrics_output\n",
    "    bf_metrics_output.loc[len(bf_metrics_output)] = [model_name, accuracy, precision, recall, f1_score]"
   ]
  },
  {
   "cell_type": "code",
   "execution_count": 96,
   "metadata": {},
   "outputs": [
    {
     "data": {
      "text/html": [
       "<div>\n",
       "<style scoped>\n",
       "    .dataframe tbody tr th:only-of-type {\n",
       "        vertical-align: middle;\n",
       "    }\n",
       "\n",
       "    .dataframe tbody tr th {\n",
       "        vertical-align: top;\n",
       "    }\n",
       "\n",
       "    .dataframe thead th {\n",
       "        text-align: right;\n",
       "    }\n",
       "</style>\n",
       "<table border=\"1\" class=\"dataframe\">\n",
       "  <thead>\n",
       "    <tr style=\"text-align: right;\">\n",
       "      <th></th>\n",
       "      <th>model_name</th>\n",
       "      <th>accuracy</th>\n",
       "      <th>precision</th>\n",
       "      <th>recall</th>\n",
       "      <th>f1_score</th>\n",
       "    </tr>\n",
       "  </thead>\n",
       "  <tbody>\n",
       "    <tr>\n",
       "      <th>5</th>\n",
       "      <td>Gradient_Boosting</td>\n",
       "      <td>0.766689</td>\n",
       "      <td>0.779152</td>\n",
       "      <td>0.766689</td>\n",
       "      <td>0.771644</td>\n",
       "    </tr>\n",
       "    <tr>\n",
       "      <th>4</th>\n",
       "      <td>Random_Forest</td>\n",
       "      <td>0.770654</td>\n",
       "      <td>0.767638</td>\n",
       "      <td>0.770654</td>\n",
       "      <td>0.769041</td>\n",
       "    </tr>\n",
       "    <tr>\n",
       "      <th>2</th>\n",
       "      <td>Support_Vector_Machine</td>\n",
       "      <td>0.758096</td>\n",
       "      <td>0.791162</td>\n",
       "      <td>0.758096</td>\n",
       "      <td>0.768041</td>\n",
       "    </tr>\n",
       "    <tr>\n",
       "      <th>1</th>\n",
       "      <td>Logistic_Regression</td>\n",
       "      <td>0.737607</td>\n",
       "      <td>0.797736</td>\n",
       "      <td>0.737607</td>\n",
       "      <td>0.751636</td>\n",
       "    </tr>\n",
       "    <tr>\n",
       "      <th>3</th>\n",
       "      <td>Decision_Tree</td>\n",
       "      <td>0.711831</td>\n",
       "      <td>0.729559</td>\n",
       "      <td>0.711831</td>\n",
       "      <td>0.719043</td>\n",
       "    </tr>\n",
       "    <tr>\n",
       "      <th>0</th>\n",
       "      <td>K-Nearest_Neighbors</td>\n",
       "      <td>0.682750</td>\n",
       "      <td>0.760931</td>\n",
       "      <td>0.682750</td>\n",
       "      <td>0.700819</td>\n",
       "    </tr>\n",
       "  </tbody>\n",
       "</table>\n",
       "</div>"
      ],
      "text/plain": [
       "               model_name  accuracy  precision    recall  f1_score\n",
       "5       Gradient_Boosting  0.766689   0.779152  0.766689  0.771644\n",
       "4           Random_Forest  0.770654   0.767638  0.770654  0.769041\n",
       "2  Support_Vector_Machine  0.758096   0.791162  0.758096  0.768041\n",
       "1     Logistic_Regression  0.737607   0.797736  0.737607  0.751636\n",
       "3           Decision_Tree  0.711831   0.729559  0.711831  0.719043\n",
       "0     K-Nearest_Neighbors  0.682750   0.760931  0.682750  0.700819"
      ]
     },
     "execution_count": 96,
     "metadata": {},
     "output_type": "execute_result"
    }
   ],
   "source": [
    "#Display the metrics_output\n",
    "bf_metrics_output.sort_values(ascending=False, by='f1_score')"
   ]
  },
  {
   "cell_type": "markdown",
   "metadata": {},
   "source": [
    "##### The performance of the models are still not the best so we will consider more methods that can improve the performance."
   ]
  }
 ],
 "metadata": {
  "kernelspec": {
   "display_name": "venv",
   "language": "python",
   "name": "python3"
  },
  "language_info": {
   "codemirror_mode": {
    "name": "ipython",
    "version": 3
   },
   "file_extension": ".py",
   "mimetype": "text/x-python",
   "name": "python",
   "nbconvert_exporter": "python",
   "pygments_lexer": "ipython3",
   "version": "3.11.0"
  }
 },
 "nbformat": 4,
 "nbformat_minor": 2
}
