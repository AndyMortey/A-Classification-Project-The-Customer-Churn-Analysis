{
 "cells": [
  {
   "cell_type": "code",
   "execution_count": 5,
   "metadata": {},
   "outputs": [],
   "source": [
    "\n",
    "import numpy as np\n",
    "import pandas as pd\n",
    "import os\n",
    "import pyodbc\n",
    "from dotenv import load_dotenv\n",
    "from dotenv import dotenv_values\n",
    "import matplotlib.pyplot as plt\n",
    "import seaborn as sns\n",
    "from scipy import stats\n",
    "import warnings\n",
    "warnings.filterwarnings('ignore')"
   ]
  },
  {
   "cell_type": "code",
   "execution_count": 6,
   "metadata": {},
   "outputs": [
    {
     "name": "stdout",
     "output_type": "stream",
     "text": [
      "USERNAME: LP2_project\n",
      "PASSWORD: Stat$AndD@t@Rul3\n",
      "Connection successful!\n"
     ]
    }
   ],
   "source": [
    "#Loading first dataset from database\n",
    "# Load environment variables from .env file\n",
    "environment_variables = dotenv_values('.env')\n",
    "\n",
    "# Access database credentials from environment variables dictionary\n",
    "server = environment_variables.get(\"SERVER\")\n",
    "database = environment_variables.get(\"DATABASE\")\n",
    "password = environment_variables.get(\"PASSWORD\")\n",
    "username = environment_variables.get(\"USERNAME\")\n",
    "\n",
    "# Construct the connection string\n",
    "connection_string = f\"DRIVER=ODBC Driver 17 for SQL Server;SERVER={server};DATABASE={database};User Id={username};PASSWORD={password};\"\n",
    "\n",
    "print(\"USERNAME:\", username)\n",
    "print(\"PASSWORD:\", password)\n",
    "\n",
    "# Construct the connection string\n",
    "connection_string = f\"DRIVER=ODBC Driver 17 for SQL Server;SERVER={server};DATABASE={database};UID={username};PWD={password};\"\n",
    "# Connect to the database\n",
    "try:\n",
    "    connection = pyodbc.connect(connection_string)\n",
    "    print(\"Connection successful!\")\n",
    "except Exception as e:\n",
    "    print(\"Error:\", e)\n",
    "\n",
    "# Specify the SQL queries to extract data from the tables\n",
    "Dataset1 = \"SELECT * FROM dbo.LP2_Telco_churn_first_3000\"\n",
    "\n",
    "# Suppress warnings\n",
    "warnings.filterwarnings('ignore')\n",
    "\n",
    "# Create a cursor from the connection\n",
    "with connection.cursor() as cursor:\n",
    "    # Execute the queries and fetch data into Pandas DataFrames\n",
    "    Dataset1 = pd.read_sql_query(Dataset1, connection)"
   ]
  }
 ],
 "metadata": {
  "kernelspec": {
   "display_name": "venv",
   "language": "python",
   "name": "python3"
  },
  "language_info": {
   "codemirror_mode": {
    "name": "ipython",
    "version": 3
   },
   "file_extension": ".py",
   "mimetype": "text/x-python",
   "name": "python",
   "nbconvert_exporter": "python",
   "pygments_lexer": "ipython3",
   "version": "3.11.0"
  }
 },
 "nbformat": 4,
 "nbformat_minor": 2
}
